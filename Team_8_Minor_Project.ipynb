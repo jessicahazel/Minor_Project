{
  "cells": [
    {
      "cell_type": "markdown",
      "metadata": {
        "id": "view-in-github",
        "colab_type": "text"
      },
      "source": [
        "<a href=\"https://colab.research.google.com/github/jessicahazel/Minor_Project/blob/main/Team_8_Minor_Project.ipynb\" target=\"_parent\"><img src=\"https://colab.research.google.com/assets/colab-badge.svg\" alt=\"Open In Colab\"/></a>"
      ]
    },
    {
      "cell_type": "markdown",
      "metadata": {
        "id": "p-mphsYx-xHY"
      },
      "source": [
        "##libraries"
      ]
    },
    {
      "cell_type": "code",
      "execution_count": null,
      "metadata": {
        "colab": {
          "base_uri": "https://localhost:8080/",
          "height": 17
        },
        "id": "dTqLxeqYqmJw",
        "outputId": "7f90d37c-024e-4295-eb95-1aeed09bc2b1"
      },
      "outputs": [
        {
          "output_type": "display_data",
          "data": {
            "text/html": [
              "        <script type=\"text/javascript\">\n",
              "        window.PlotlyConfig = {MathJaxConfig: 'local'};\n",
              "        if (window.MathJax) {MathJax.Hub.Config({SVG: {font: \"STIX-Web\"}});}\n",
              "        if (typeof require !== 'undefined') {\n",
              "        require.undef(\"plotly\");\n",
              "        requirejs.config({\n",
              "            paths: {\n",
              "                'plotly': ['https://cdn.plot.ly/plotly-2.8.3.min']\n",
              "            }\n",
              "        });\n",
              "        require(['plotly'], function(Plotly) {\n",
              "            window._Plotly = Plotly;\n",
              "        });\n",
              "        }\n",
              "        </script>\n",
              "        "
            ]
          },
          "metadata": {}
        }
      ],
      "source": [
        "import numpy as np # linear algebra\n",
        "import pandas as pd # data processing, CSV file I/O (e.g. pd.read_csv)\n",
        "import plotly.offline as py\n",
        "import plotly.graph_objs as go\n",
        "import plotly.tools as tls\n",
        "from IPython.display import Image, HTML\n",
        "import re\n",
        "from IPython.core.display import display, HTML, Javascript\n",
        "from string import Template\n",
        "import pandas as pd\n",
        "import numpy as np\n",
        "import json\n",
        "import IPython.display\n",
        "import pandas as pd\n",
        "import numpy as np\n",
        "import matplotlib.pyplot as plt\n",
        "import itertools\n",
        "import seaborn as sns\n",
        "sns.set_style(\"darkgrid\")\n",
        "# from sklearn.metrics import plot_confusion_matrix\n",
        "from sklearn.model_selection import train_test_split\n",
        "from sklearn.linear_model import LogisticRegression\n",
        "from sklearn.dummy import DummyClassifier\n",
        "from sklearn.decomposition import PCA\n",
        "from sklearn.discriminant_analysis import LinearDiscriminantAnalysis as LDA\n",
        "from sklearn.ensemble import RandomForestClassifier\n",
        "from sklearn.neural_network import MLPClassifier\n",
        "from sklearn.model_selection import GridSearchCV\n",
        "from sklearn.metrics import confusion_matrix\n",
        " \n",
        "%matplotlib inline\n",
        "py.init_notebook_mode(connected=True)"
      ]
    },
    {
      "cell_type": "code",
      "execution_count": null,
      "metadata": {
        "id": "_GzYQ160shOv",
        "colab": {
          "base_uri": "https://localhost:8080/"
        },
        "outputId": "558d96c2-8ede-4b56-bc0f-d2be01f2ea76"
      },
      "outputs": [
        {
          "output_type": "stream",
          "name": "stdout",
          "text": [
            "Drive already mounted at /content/drive; to attempt to forcibly remount, call drive.mount(\"/content/drive\", force_remount=True).\n"
          ]
        }
      ],
      "source": [
        "from google.colab import drive\n",
        "drive.mount('/content/drive')"
      ]
    },
    {
      "cell_type": "markdown",
      "metadata": {
        "id": "GXFqjuCi-4fD"
      },
      "source": [
        "##pre processing"
      ]
    },
    {
      "cell_type": "code",
      "execution_count": null,
      "metadata": {
        "id": "LKYYwTx4tATH",
        "colab": {
          "base_uri": "https://localhost:8080/"
        },
        "outputId": "ff814cca-e155-40ed-b708-abb1b052e791"
      },
      "outputs": [
        {
          "output_type": "stream",
          "name": "stderr",
          "text": [
            "/usr/local/lib/python3.8/dist-packages/IPython/core/interactiveshell.py:3326: DtypeWarning:\n",
            "\n",
            "Columns (23,35) have mixed types.Specify dtype option on import or set low_memory=False.\n",
            "\n"
          ]
        }
      ],
      "source": [
        "data = pd.read_csv('/content/drive/MyDrive/CompleteDataset.csv', encoding='utf-8')"
      ]
    },
    {
      "cell_type": "code",
      "execution_count": null,
      "metadata": {
        "id": "iACfMmWHtd06"
      },
      "outputs": [],
      "source": [
        "data = data.drop(data.columns[0], axis = 1)\n",
        "def in_preferred_position(list_pos, pos):\n",
        "    if pos in list_pos:\n",
        "        return True\n",
        "    return False\n",
        "\n",
        "data['Preferred Positions'] = list(map(lambda x: x.split(), data['Preferred Positions']))\n",
        "\n",
        "def str2number(amount):\n",
        "    if amount[-1] == 'M':\n",
        "        return float(amount[1:-1])*1000000\n",
        "    elif amount[-1] == 'K':\n",
        "        return float(amount[1:-1])*1000\n",
        "    else:\n",
        "        return float(amount[1:])\n",
        "\n",
        "data['Value'] = data['Value'].apply(lambda x: str2number(x))\n",
        "data['Wage'] = data['Wage'].apply(lambda x: str2number(x)) \n"
      ]
    },
    {
      "cell_type": "code",
      "execution_count": null,
      "metadata": {
        "id": "iK-IQn3P25Fp"
      },
      "outputs": [],
      "source": [
        "data = data[data['Value'].notnull()]"
      ]
    },
    {
      "cell_type": "code",
      "execution_count": null,
      "metadata": {
        "id": "mHv5Byn82siZ"
      },
      "outputs": [],
      "source": [
        "data.apply(pd.to_numeric, errors='coerce')\n",
        "def convert_to_float(x):\n",
        "    if len(str(x).split('+')) > 1:\n",
        "        return float(str(x).split('+')[0])\n",
        "    if len(str(x).split('-')) > 1:\n",
        "        return float(str(x).split('-')[0])\n",
        "    else:\n",
        "        return float(x)\n",
        "\n",
        "a = [ 'Acceleration', 'Aggression', 'Agility', 'Balance', 'Ball control',\n",
        "       'Composure', 'Crossing', 'Curve', 'Dribbling', 'Finishing',\n",
        "       'Free kick accuracy', 'GK diving', 'GK handling', 'GK kicking',\n",
        "       'GK positioning', 'GK reflexes', 'Heading accuracy', 'Interceptions',\n",
        "       'Jumping', 'Long passing', 'Long shots', 'Marking', 'Penalties',\n",
        "       'Positioning', 'Reactions', 'Short passing', 'Shot power',\n",
        "       'Sliding tackle', 'Sprint speed', 'Stamina', 'Standing tackle',\n",
        "       'Strength', 'Vision', 'Volleys']\n",
        "\n",
        "for p in a:\n",
        "    data[p] = list(map(convert_to_float, data[p])) "
      ]
    },
    {
      "cell_type": "code",
      "execution_count": null,
      "metadata": {
        "id": "49FPbXCaxTLx"
      },
      "outputs": [],
      "source": [
        "mapping = {'ST': 'Attack', 'RW': 'Attack', 'LW': 'Attack', 'RM': 'Midfield', 'CM': 'Midfield', 'LM': 'Midfield', 'CAM': 'Midfield', 'CF': 'Midfield', 'CDM': 'Midfield', 'CB': 'Defence', 'LB': 'Defence', 'RB': 'Defence', 'RWB': 'Defence', 'LWB': 'Defence', 'GK': 'Goalkeeper'}\n",
        "\n",
        "# for position in mapping.keys(): \n",
        "#     data[[in_preferred_position(x, position) for x in data['Preferred Positions']]]\n",
        "    \n",
        "for index, row in data.iterrows():\n",
        "    data.loc[index, 'FieldPosition'] = mapping[row['Preferred Positions'][0]]"
      ]
    },
    {
      "cell_type": "code",
      "execution_count": null,
      "metadata": {
        "id": "1ye9aWuWxaOZ"
      },
      "outputs": [],
      "source": [
        "continents = {\n",
        "    'Africa' : ['Algeria','Angola','Benin','Botswana','Burkina','Burundi','Cameroon','Cape Verde','Central African Republic','Chad','Comoros','Congo','DR Congo','Djibouti','Egypt','Equatorial Guinea','Eritrea','Ethiopia','Gabon','Gambia','Ghana','Guinea','Guinea Bissau','Ivory Coast','Kenya','Lesotho','Liberia','Libya','Madagascar','Malawi','Mali','Mauritania','Mauritius','Morocco','Mozambique','Namibia','Niger','Nigeria','Rwanda','Sao Tome and Principe','Senegal','Seychelles','Sierra Leone','Somalia','South Africa','South Sudan','Sudan','Swaziland','Tanzania','Togo','Tunisia','Uganda','Zambia','Zimbabwe','Burkina Faso'],\n",
        "    'Antarctica' : ['Fiji','Kiribati','Marshall Islands','Micronesia','Nauru','Palau','Papua New Guinea','Samoa','Solomon Islands','Tonga','Tuvalu','Vanuatu'],\n",
        "    'Asia' : ['Afghanistan','Bahrain','Bangladesh','Bhutan','Brunei','Burma (Myanmar)','Cambodia','China','China PR','East Timor','India','Indonesia','Iran','Iraq','Israel','Japan','Jordan','Kazakhstan','North Korea','South Korea','Korea Republic','Korea DPR','Kuwait','Kyrgyzstan','Laos','Lebanon','Malaysia','Maldives','Mongolia','Nepal','Oman','Pakistan','Palestine','Philippines','Qatar','Russian Federation','Saudi Arabia','Singapore','Sri Lanka','Syria','Tajikistan','Thailand','Turkey','Turkmenistan','United Arab Emirates','Uzbekistan','Vietnam','Yemen','Russia'],\n",
        "    'Australia Oceania' : ['Australia','New Caledonia', 'New Zealand'],\n",
        "    'Europe' : ['Albania','Andorra','Armenia','Austria','Azerbaijan','Belarus','Belgium','Bosnia Herzegovina','Bulgaria','Croatia','Cyprus','Czech Republic','Denmark','Estonia','Finland','France','FYR Macedonia','Georgia','Germany','Greece','Hungary','Iceland','Ireland','Italy','Kosovo','Latvia','Liechtenstein','Lithuania','Luxembourg','Macedonia','Malta','Moldova','Monaco','Montenegro','Netherlands','Northern Ireland','Norway','Poland','Portugal','Romania','San Marino','Scotland','Serbia','Slovakia','Slovenia','Spain','Sweden','Switzerland','Ukraine','England','Vatican City','Republic of Ireland','Wales'],\n",
        "    'North America' : ['Antigua and Barbuda','Bahamas','Barbados','Belize','Canada','Costa Rica','Cuba','Dominica','Dominican Republic','El Salvador','Grenada','Guatemala','Haiti','Honduras','Jamaica','Mexico','Nicaragua','Panama','Saint Kitts and Nevis','Saint Lucia','Saint Vincent and the Grenadines','Trinidad and Tobago','United States'],\n",
        "    'South America' : ['Argentina','Bolivia','Brazil','Chile','Colombia','Curacao','Ecuador','Guyana','Paraguay','Peru','Suriname','Trinidad & Tobago','Uruguay','Venezuela']\n",
        "}"
      ]
    },
    {
      "cell_type": "code",
      "execution_count": null,
      "metadata": {
        "id": "BpgmHwp2xel8"
      },
      "outputs": [],
      "source": [
        "def find_continent(x, continents_list):\n",
        "    # Iteration over \n",
        "    for key in continents_list:\n",
        "        if x in continents_list[key]:\n",
        "            return key\n",
        "    return np.NaN\n",
        "\n",
        "data['Continent'] = data['Nationality'].apply(lambda x: find_continent(x, continents))"
      ]
    },
    {
      "cell_type": "code",
      "source": [
        "data.drop(['Photo'], axis = 1,inplace=True)"
      ],
      "metadata": {
        "id": "_yDV_ErMa8g6"
      },
      "execution_count": null,
      "outputs": []
    },
    {
      "cell_type": "code",
      "execution_count": null,
      "metadata": {
        "id": "I7vFl9g0xhdZ",
        "colab": {
          "base_uri": "https://localhost:8080/",
          "height": 438
        },
        "outputId": "9cbae3e3-628f-41c2-eaa0-06232892298b"
      },
      "outputs": [
        {
          "output_type": "execute_result",
          "data": {
            "text/plain": [
              "                Name  Age Nationality                                 Flag  \\\n",
              "0  Cristiano Ronaldo   32    Portugal  https://cdn.sofifa.org/flags/38.png   \n",
              "1           L. Messi   30   Argentina  https://cdn.sofifa.org/flags/52.png   \n",
              "2             Neymar   25      Brazil  https://cdn.sofifa.org/flags/54.png   \n",
              "3          L. Suárez   30     Uruguay  https://cdn.sofifa.org/flags/60.png   \n",
              "4           M. Neuer   31     Germany  https://cdn.sofifa.org/flags/21.png   \n",
              "\n",
              "   Overall  Potential                 Club  \\\n",
              "0       94         94       Real Madrid CF   \n",
              "1       93         93         FC Barcelona   \n",
              "2       92         94  Paris Saint-Germain   \n",
              "3       92         92         FC Barcelona   \n",
              "4       92         92     FC Bayern Munich   \n",
              "\n",
              "                                    Club Logo        Value      Wage  ...  \\\n",
              "0  https://cdn.sofifa.org/24/18/teams/243.png   95500000.0  565000.0  ...   \n",
              "1  https://cdn.sofifa.org/24/18/teams/241.png  105000000.0  565000.0  ...   \n",
              "2   https://cdn.sofifa.org/24/18/teams/73.png  123000000.0  280000.0  ...   \n",
              "3  https://cdn.sofifa.org/24/18/teams/241.png   97000000.0  510000.0  ...   \n",
              "4   https://cdn.sofifa.org/24/18/teams/21.png   61000000.0  230000.0  ...   \n",
              "\n",
              "    RCM   RDM    RF    RM    RS    RW   RWB    ST  FieldPosition  \\\n",
              "0  82.0  62.0  91.0  89.0  92.0  91.0  66.0  92.0         Attack   \n",
              "1  84.0  59.0  92.0  90.0  88.0  91.0  62.0  88.0         Attack   \n",
              "2  79.0  59.0  88.0  87.0  84.0  89.0  64.0  84.0         Attack   \n",
              "3  80.0  65.0  88.0  85.0  88.0  87.0  68.0  88.0         Attack   \n",
              "4   NaN   NaN   NaN   NaN   NaN   NaN   NaN   NaN     Goalkeeper   \n",
              "\n",
              "       Continent  \n",
              "0         Europe  \n",
              "1  South America  \n",
              "2  South America  \n",
              "3  South America  \n",
              "4         Europe  \n",
              "\n",
              "[5 rows x 75 columns]"
            ],
            "text/html": [
              "\n",
              "  <div id=\"df-45eef2c9-8b0d-4a36-bb55-9dbed722f181\">\n",
              "    <div class=\"colab-df-container\">\n",
              "      <div>\n",
              "<style scoped>\n",
              "    .dataframe tbody tr th:only-of-type {\n",
              "        vertical-align: middle;\n",
              "    }\n",
              "\n",
              "    .dataframe tbody tr th {\n",
              "        vertical-align: top;\n",
              "    }\n",
              "\n",
              "    .dataframe thead th {\n",
              "        text-align: right;\n",
              "    }\n",
              "</style>\n",
              "<table border=\"1\" class=\"dataframe\">\n",
              "  <thead>\n",
              "    <tr style=\"text-align: right;\">\n",
              "      <th></th>\n",
              "      <th>Name</th>\n",
              "      <th>Age</th>\n",
              "      <th>Nationality</th>\n",
              "      <th>Flag</th>\n",
              "      <th>Overall</th>\n",
              "      <th>Potential</th>\n",
              "      <th>Club</th>\n",
              "      <th>Club Logo</th>\n",
              "      <th>Value</th>\n",
              "      <th>Wage</th>\n",
              "      <th>...</th>\n",
              "      <th>RCM</th>\n",
              "      <th>RDM</th>\n",
              "      <th>RF</th>\n",
              "      <th>RM</th>\n",
              "      <th>RS</th>\n",
              "      <th>RW</th>\n",
              "      <th>RWB</th>\n",
              "      <th>ST</th>\n",
              "      <th>FieldPosition</th>\n",
              "      <th>Continent</th>\n",
              "    </tr>\n",
              "  </thead>\n",
              "  <tbody>\n",
              "    <tr>\n",
              "      <th>0</th>\n",
              "      <td>Cristiano Ronaldo</td>\n",
              "      <td>32</td>\n",
              "      <td>Portugal</td>\n",
              "      <td>https://cdn.sofifa.org/flags/38.png</td>\n",
              "      <td>94</td>\n",
              "      <td>94</td>\n",
              "      <td>Real Madrid CF</td>\n",
              "      <td>https://cdn.sofifa.org/24/18/teams/243.png</td>\n",
              "      <td>95500000.0</td>\n",
              "      <td>565000.0</td>\n",
              "      <td>...</td>\n",
              "      <td>82.0</td>\n",
              "      <td>62.0</td>\n",
              "      <td>91.0</td>\n",
              "      <td>89.0</td>\n",
              "      <td>92.0</td>\n",
              "      <td>91.0</td>\n",
              "      <td>66.0</td>\n",
              "      <td>92.0</td>\n",
              "      <td>Attack</td>\n",
              "      <td>Europe</td>\n",
              "    </tr>\n",
              "    <tr>\n",
              "      <th>1</th>\n",
              "      <td>L. Messi</td>\n",
              "      <td>30</td>\n",
              "      <td>Argentina</td>\n",
              "      <td>https://cdn.sofifa.org/flags/52.png</td>\n",
              "      <td>93</td>\n",
              "      <td>93</td>\n",
              "      <td>FC Barcelona</td>\n",
              "      <td>https://cdn.sofifa.org/24/18/teams/241.png</td>\n",
              "      <td>105000000.0</td>\n",
              "      <td>565000.0</td>\n",
              "      <td>...</td>\n",
              "      <td>84.0</td>\n",
              "      <td>59.0</td>\n",
              "      <td>92.0</td>\n",
              "      <td>90.0</td>\n",
              "      <td>88.0</td>\n",
              "      <td>91.0</td>\n",
              "      <td>62.0</td>\n",
              "      <td>88.0</td>\n",
              "      <td>Attack</td>\n",
              "      <td>South America</td>\n",
              "    </tr>\n",
              "    <tr>\n",
              "      <th>2</th>\n",
              "      <td>Neymar</td>\n",
              "      <td>25</td>\n",
              "      <td>Brazil</td>\n",
              "      <td>https://cdn.sofifa.org/flags/54.png</td>\n",
              "      <td>92</td>\n",
              "      <td>94</td>\n",
              "      <td>Paris Saint-Germain</td>\n",
              "      <td>https://cdn.sofifa.org/24/18/teams/73.png</td>\n",
              "      <td>123000000.0</td>\n",
              "      <td>280000.0</td>\n",
              "      <td>...</td>\n",
              "      <td>79.0</td>\n",
              "      <td>59.0</td>\n",
              "      <td>88.0</td>\n",
              "      <td>87.0</td>\n",
              "      <td>84.0</td>\n",
              "      <td>89.0</td>\n",
              "      <td>64.0</td>\n",
              "      <td>84.0</td>\n",
              "      <td>Attack</td>\n",
              "      <td>South America</td>\n",
              "    </tr>\n",
              "    <tr>\n",
              "      <th>3</th>\n",
              "      <td>L. Suárez</td>\n",
              "      <td>30</td>\n",
              "      <td>Uruguay</td>\n",
              "      <td>https://cdn.sofifa.org/flags/60.png</td>\n",
              "      <td>92</td>\n",
              "      <td>92</td>\n",
              "      <td>FC Barcelona</td>\n",
              "      <td>https://cdn.sofifa.org/24/18/teams/241.png</td>\n",
              "      <td>97000000.0</td>\n",
              "      <td>510000.0</td>\n",
              "      <td>...</td>\n",
              "      <td>80.0</td>\n",
              "      <td>65.0</td>\n",
              "      <td>88.0</td>\n",
              "      <td>85.0</td>\n",
              "      <td>88.0</td>\n",
              "      <td>87.0</td>\n",
              "      <td>68.0</td>\n",
              "      <td>88.0</td>\n",
              "      <td>Attack</td>\n",
              "      <td>South America</td>\n",
              "    </tr>\n",
              "    <tr>\n",
              "      <th>4</th>\n",
              "      <td>M. Neuer</td>\n",
              "      <td>31</td>\n",
              "      <td>Germany</td>\n",
              "      <td>https://cdn.sofifa.org/flags/21.png</td>\n",
              "      <td>92</td>\n",
              "      <td>92</td>\n",
              "      <td>FC Bayern Munich</td>\n",
              "      <td>https://cdn.sofifa.org/24/18/teams/21.png</td>\n",
              "      <td>61000000.0</td>\n",
              "      <td>230000.0</td>\n",
              "      <td>...</td>\n",
              "      <td>NaN</td>\n",
              "      <td>NaN</td>\n",
              "      <td>NaN</td>\n",
              "      <td>NaN</td>\n",
              "      <td>NaN</td>\n",
              "      <td>NaN</td>\n",
              "      <td>NaN</td>\n",
              "      <td>NaN</td>\n",
              "      <td>Goalkeeper</td>\n",
              "      <td>Europe</td>\n",
              "    </tr>\n",
              "  </tbody>\n",
              "</table>\n",
              "<p>5 rows × 75 columns</p>\n",
              "</div>\n",
              "      <button class=\"colab-df-convert\" onclick=\"convertToInteractive('df-45eef2c9-8b0d-4a36-bb55-9dbed722f181')\"\n",
              "              title=\"Convert this dataframe to an interactive table.\"\n",
              "              style=\"display:none;\">\n",
              "        \n",
              "  <svg xmlns=\"http://www.w3.org/2000/svg\" height=\"24px\"viewBox=\"0 0 24 24\"\n",
              "       width=\"24px\">\n",
              "    <path d=\"M0 0h24v24H0V0z\" fill=\"none\"/>\n",
              "    <path d=\"M18.56 5.44l.94 2.06.94-2.06 2.06-.94-2.06-.94-.94-2.06-.94 2.06-2.06.94zm-11 1L8.5 8.5l.94-2.06 2.06-.94-2.06-.94L8.5 2.5l-.94 2.06-2.06.94zm10 10l.94 2.06.94-2.06 2.06-.94-2.06-.94-.94-2.06-.94 2.06-2.06.94z\"/><path d=\"M17.41 7.96l-1.37-1.37c-.4-.4-.92-.59-1.43-.59-.52 0-1.04.2-1.43.59L10.3 9.45l-7.72 7.72c-.78.78-.78 2.05 0 2.83L4 21.41c.39.39.9.59 1.41.59.51 0 1.02-.2 1.41-.59l7.78-7.78 2.81-2.81c.8-.78.8-2.07 0-2.86zM5.41 20L4 18.59l7.72-7.72 1.47 1.35L5.41 20z\"/>\n",
              "  </svg>\n",
              "      </button>\n",
              "      \n",
              "  <style>\n",
              "    .colab-df-container {\n",
              "      display:flex;\n",
              "      flex-wrap:wrap;\n",
              "      gap: 12px;\n",
              "    }\n",
              "\n",
              "    .colab-df-convert {\n",
              "      background-color: #E8F0FE;\n",
              "      border: none;\n",
              "      border-radius: 50%;\n",
              "      cursor: pointer;\n",
              "      display: none;\n",
              "      fill: #1967D2;\n",
              "      height: 32px;\n",
              "      padding: 0 0 0 0;\n",
              "      width: 32px;\n",
              "    }\n",
              "\n",
              "    .colab-df-convert:hover {\n",
              "      background-color: #E2EBFA;\n",
              "      box-shadow: 0px 1px 2px rgba(60, 64, 67, 0.3), 0px 1px 3px 1px rgba(60, 64, 67, 0.15);\n",
              "      fill: #174EA6;\n",
              "    }\n",
              "\n",
              "    [theme=dark] .colab-df-convert {\n",
              "      background-color: #3B4455;\n",
              "      fill: #D2E3FC;\n",
              "    }\n",
              "\n",
              "    [theme=dark] .colab-df-convert:hover {\n",
              "      background-color: #434B5C;\n",
              "      box-shadow: 0px 1px 3px 1px rgba(0, 0, 0, 0.15);\n",
              "      filter: drop-shadow(0px 1px 2px rgba(0, 0, 0, 0.3));\n",
              "      fill: #FFFFFF;\n",
              "    }\n",
              "  </style>\n",
              "\n",
              "      <script>\n",
              "        const buttonEl =\n",
              "          document.querySelector('#df-45eef2c9-8b0d-4a36-bb55-9dbed722f181 button.colab-df-convert');\n",
              "        buttonEl.style.display =\n",
              "          google.colab.kernel.accessAllowed ? 'block' : 'none';\n",
              "\n",
              "        async function convertToInteractive(key) {\n",
              "          const element = document.querySelector('#df-45eef2c9-8b0d-4a36-bb55-9dbed722f181');\n",
              "          const dataTable =\n",
              "            await google.colab.kernel.invokeFunction('convertToInteractive',\n",
              "                                                     [key], {});\n",
              "          if (!dataTable) return;\n",
              "\n",
              "          const docLinkHtml = 'Like what you see? Visit the ' +\n",
              "            '<a target=\"_blank\" href=https://colab.research.google.com/notebooks/data_table.ipynb>data table notebook</a>'\n",
              "            + ' to learn more about interactive tables.';\n",
              "          element.innerHTML = '';\n",
              "          dataTable['output_type'] = 'display_data';\n",
              "          await google.colab.output.renderOutput(dataTable, element);\n",
              "          const docLink = document.createElement('div');\n",
              "          docLink.innerHTML = docLinkHtml;\n",
              "          element.appendChild(docLink);\n",
              "        }\n",
              "      </script>\n",
              "    </div>\n",
              "  </div>\n",
              "  "
            ]
          },
          "metadata": {},
          "execution_count": 87
        }
      ],
      "source": [
        "data.head()"
      ]
    },
    {
      "cell_type": "code",
      "execution_count": null,
      "metadata": {
        "id": "toRR4t10xlUb"
      },
      "outputs": [],
      "source": [
        "top_1000 = data.sort_values(\"Overall\", ascending=False).reset_index().head(2000)[[\"Name\", \"Nationality\", \"Continent\", \"Overall\", \"Club\"]]"
      ]
    },
    {
      "cell_type": "code",
      "execution_count": null,
      "metadata": {
        "id": "Kde0Otskxxoh"
      },
      "outputs": [],
      "source": [
        "data_f = {}\n",
        "data_f[\"name\"] = \"DISTRIBUTION OF TOP 1000 PLAYERS ACCORDING TO NATIONALITY\"\n",
        "data_f[\"children\"] = []\n",
        "\n",
        "# Split dataset into Continents:\n",
        "for continent in top_1000['Continent'].unique():\n",
        "    \n",
        "    continent_set = top_1000[top_1000[\"Continent\"]==continent]\n",
        "    continent_dict = {}\n",
        "    continent_dict[\"name\"] = continent\n",
        "    continent_dict[\"children\"] = []\n",
        "    \n",
        "    for country in continent_set['Nationality'].unique():\n",
        "        \n",
        "        countries_set = continent_set[continent_set['Nationality']==country][['Name', 'Overall']]\n",
        "        \n",
        "        country_dict = {}\n",
        "        country_dict[\"name\"] = country\n",
        "        country_dict[\"children\"] = []\n",
        "        \n",
        "        for player in countries_set.values:\n",
        "            \n",
        "            player_dict = {}\n",
        "            player_dict['name'] = player[0]\n",
        "            player_dict['size'] = player[1]/20\n",
        "            country_dict[\"children\"].append(player_dict)\n",
        "            \n",
        "        continent_dict['children'].append(country_dict)\n",
        "        \n",
        "    data_f[\"children\"].append(continent_dict)"
      ]
    },
    {
      "cell_type": "markdown",
      "metadata": {
        "id": "V1j4nz7T-_ds"
      },
      "source": [
        "##EDA"
      ]
    },
    {
      "cell_type": "code",
      "execution_count": null,
      "metadata": {
        "id": "AodZBNOlyIIE"
      },
      "outputs": [],
      "source": [
        "import seaborn as sns\n",
        "import matplotlib.pyplot as plt\n",
        "sns.set(style=\"white\")\n",
        "\n",
        "# Load the example mpg dataset\n",
        "mpg = data"
      ]
    },
    {
      "cell_type": "code",
      "execution_count": null,
      "metadata": {
        "id": "o--dgXyYyMhB",
        "colab": {
          "base_uri": "https://localhost:8080/",
          "height": 545
        },
        "outputId": "f6a49523-1593-40e2-c0c1-37c6e639d1e6"
      },
      "outputs": [
        {
          "output_type": "display_data",
          "data": {
            "text/plain": [
              "<Figure size 648.35x540 with 1 Axes>"
            ],
            "image/png": "[encoded data removed]"
          },
          "metadata": {}
        }
      ],
      "source": [
        "p = sns.relplot(x=\"Age\", y=\"Overall\", hue=\"FieldPosition\", size=\"Value\",sizes=(30, 700), alpha=0.8, palette=\"muted\",height=7.5, data=mpg)"
      ]
    },
    {
      "cell_type": "code",
      "execution_count": null,
      "metadata": {
        "id": "G1-e9bXbyPBx"
      },
      "outputs": [],
      "source": [
        "def overallbox():\n",
        "    df = data.copy()\n",
        "    sns.set(style=\"ticks\", palette=\"pastel\")\n",
        "    a4_dims = (11.7, 8.27)\n",
        "    fig, ax = plt.subplots(figsize=a4_dims)\n",
        "\n",
        "\n",
        "    top10 = list(df['Nationality'].value_counts().head(10).index)\n",
        "    d = df.query('Nationality in @top10')\n",
        "    box_overall = sns.boxplot(data = d, y = 'Overall', x = 'Nationality')\n",
        "    sns.despine(offset=10, trim=True)"
      ]
    },
    {
      "cell_type": "code",
      "execution_count": null,
      "metadata": {
        "id": "YSMqo3gEyU-b",
        "colab": {
          "base_uri": "https://localhost:8080/",
          "height": 527
        },
        "outputId": "a04c12d7-cbb1-4bd6-b397-53a9003cf666"
      },
      "outputs": [
        {
          "output_type": "display_data",
          "data": {
            "text/plain": [
              "<Figure size 842.4x595.44 with 1 Axes>"
            ],
            "image/png": "[encoded data removed]"
          },
          "metadata": {}
        }
      ],
      "source": [
        "overallbox()"
      ]
    },
    {
      "cell_type": "code",
      "execution_count": null,
      "metadata": {
        "id": "YvIeOSMqyZfi"
      },
      "outputs": [],
      "source": [
        "def potential_box():\n",
        "    df = data.copy()\n",
        "    sns.set(style=\"ticks\", palette=\"pastel\")\n",
        "    a4_dims = (11.7, 8.27)\n",
        "    fig, ax = plt.subplots(figsize=a4_dims)\n",
        "\n",
        "    top10 = list(df['Nationality'].value_counts().head(10).index)\n",
        "    d = df.query('Nationality in @top10')\n",
        "    box_potential = sns.boxplot(data=d, y = 'Potential', x = 'Nationality')\n",
        "    sns.despine(offset=10, trim=True)"
      ]
    },
    {
      "cell_type": "code",
      "execution_count": null,
      "metadata": {
        "id": "2iDm4K7vycRO",
        "colab": {
          "base_uri": "https://localhost:8080/",
          "height": 527
        },
        "outputId": "71c7809c-0db5-4d4b-ab06-7399a6a4a7a2"
      },
      "outputs": [
        {
          "output_type": "display_data",
          "data": {
            "text/plain": [
              "<Figure size 842.4x595.44 with 1 Axes>"
            ],
            "image/png": "[encoded data removed]"
          },
          "metadata": {}
        }
      ],
      "source": [
        "potential_box()"
      ]
    },
    {
      "cell_type": "code",
      "execution_count": null,
      "metadata": {
        "id": "N33d2ONLyoQF"
      },
      "outputs": [],
      "source": [
        "df_top10clubs = data[[\"Name\", \"Overall\", \"Club\"]]\n",
        "topclubs = df_top10clubs.groupby(\"Club\", as_index= False).median().sort_values(\"Overall\", ascending = False).head(10)\n",
        "topclubs = list(topclubs[\"Club\"])"
      ]
    },
    {
      "cell_type": "code",
      "execution_count": null,
      "metadata": {
        "id": "pADFiH87yrrU",
        "colab": {
          "base_uri": "https://localhost:8080/",
          "height": 363
        },
        "outputId": "f0b5f8c0-7e20-44e6-f8cf-bfd50fbb5400"
      },
      "outputs": [
        {
          "output_type": "execute_result",
          "data": {
            "text/plain": [
              "                    Club  Overall\n",
              "466       Real Madrid CF     83.0\n",
              "330             Juventus     82.5\n",
              "222     FC Bayern Munich     82.5\n",
              "219         FC Barcelona     82.0\n",
              "432  Paris Saint-Germain     81.0\n",
              "51               Arsenal     80.0\n",
              "377    Manchester United     80.0\n",
              "67       Atlético Madrid     79.5\n",
              "397               Napoli     79.0\n",
              "529           Sevilla FC     79.0"
            ],
            "text/html": [
              "\n",
              "  <div id=\"df-cb7a0b7f-a413-44bb-8766-b0d57b119c86\">\n",
              "    <div class=\"colab-df-container\">\n",
              "      <div>\n",
              "<style scoped>\n",
              "    .dataframe tbody tr th:only-of-type {\n",
              "        vertical-align: middle;\n",
              "    }\n",
              "\n",
              "    .dataframe tbody tr th {\n",
              "        vertical-align: top;\n",
              "    }\n",
              "\n",
              "    .dataframe thead th {\n",
              "        text-align: right;\n",
              "    }\n",
              "</style>\n",
              "<table border=\"1\" class=\"dataframe\">\n",
              "  <thead>\n",
              "    <tr style=\"text-align: right;\">\n",
              "      <th></th>\n",
              "      <th>Club</th>\n",
              "      <th>Overall</th>\n",
              "    </tr>\n",
              "  </thead>\n",
              "  <tbody>\n",
              "    <tr>\n",
              "      <th>466</th>\n",
              "      <td>Real Madrid CF</td>\n",
              "      <td>83.0</td>\n",
              "    </tr>\n",
              "    <tr>\n",
              "      <th>330</th>\n",
              "      <td>Juventus</td>\n",
              "      <td>82.5</td>\n",
              "    </tr>\n",
              "    <tr>\n",
              "      <th>222</th>\n",
              "      <td>FC Bayern Munich</td>\n",
              "      <td>82.5</td>\n",
              "    </tr>\n",
              "    <tr>\n",
              "      <th>219</th>\n",
              "      <td>FC Barcelona</td>\n",
              "      <td>82.0</td>\n",
              "    </tr>\n",
              "    <tr>\n",
              "      <th>432</th>\n",
              "      <td>Paris Saint-Germain</td>\n",
              "      <td>81.0</td>\n",
              "    </tr>\n",
              "    <tr>\n",
              "      <th>51</th>\n",
              "      <td>Arsenal</td>\n",
              "      <td>80.0</td>\n",
              "    </tr>\n",
              "    <tr>\n",
              "      <th>377</th>\n",
              "      <td>Manchester United</td>\n",
              "      <td>80.0</td>\n",
              "    </tr>\n",
              "    <tr>\n",
              "      <th>67</th>\n",
              "      <td>Atlético Madrid</td>\n",
              "      <td>79.5</td>\n",
              "    </tr>\n",
              "    <tr>\n",
              "      <th>397</th>\n",
              "      <td>Napoli</td>\n",
              "      <td>79.0</td>\n",
              "    </tr>\n",
              "    <tr>\n",
              "      <th>529</th>\n",
              "      <td>Sevilla FC</td>\n",
              "      <td>79.0</td>\n",
              "    </tr>\n",
              "  </tbody>\n",
              "</table>\n",
              "</div>\n",
              "      <button class=\"colab-df-convert\" onclick=\"convertToInteractive('df-cb7a0b7f-a413-44bb-8766-b0d57b119c86')\"\n",
              "              title=\"Convert this dataframe to an interactive table.\"\n",
              "              style=\"display:none;\">\n",
              "        \n",
              "  <svg xmlns=\"http://www.w3.org/2000/svg\" height=\"24px\"viewBox=\"0 0 24 24\"\n",
              "       width=\"24px\">\n",
              "    <path d=\"M0 0h24v24H0V0z\" fill=\"none\"/>\n",
              "    <path d=\"M18.56 5.44l.94 2.06.94-2.06 2.06-.94-2.06-.94-.94-2.06-.94 2.06-2.06.94zm-11 1L8.5 8.5l.94-2.06 2.06-.94-2.06-.94L8.5 2.5l-.94 2.06-2.06.94zm10 10l.94 2.06.94-2.06 2.06-.94-2.06-.94-.94-2.06-.94 2.06-2.06.94z\"/><path d=\"M17.41 7.96l-1.37-1.37c-.4-.4-.92-.59-1.43-.59-.52 0-1.04.2-1.43.59L10.3 9.45l-7.72 7.72c-.78.78-.78 2.05 0 2.83L4 21.41c.39.39.9.59 1.41.59.51 0 1.02-.2 1.41-.59l7.78-7.78 2.81-2.81c.8-.78.8-2.07 0-2.86zM5.41 20L4 18.59l7.72-7.72 1.47 1.35L5.41 20z\"/>\n",
              "  </svg>\n",
              "      </button>\n",
              "      \n",
              "  <style>\n",
              "    .colab-df-container {\n",
              "      display:flex;\n",
              "      flex-wrap:wrap;\n",
              "      gap: 12px;\n",
              "    }\n",
              "\n",
              "    .colab-df-convert {\n",
              "      background-color: #E8F0FE;\n",
              "      border: none;\n",
              "      border-radius: 50%;\n",
              "      cursor: pointer;\n",
              "      display: none;\n",
              "      fill: #1967D2;\n",
              "      height: 32px;\n",
              "      padding: 0 0 0 0;\n",
              "      width: 32px;\n",
              "    }\n",
              "\n",
              "    .colab-df-convert:hover {\n",
              "      background-color: #E2EBFA;\n",
              "      box-shadow: 0px 1px 2px rgba(60, 64, 67, 0.3), 0px 1px 3px 1px rgba(60, 64, 67, 0.15);\n",
              "      fill: #174EA6;\n",
              "    }\n",
              "\n",
              "    [theme=dark] .colab-df-convert {\n",
              "      background-color: #3B4455;\n",
              "      fill: #D2E3FC;\n",
              "    }\n",
              "\n",
              "    [theme=dark] .colab-df-convert:hover {\n",
              "      background-color: #434B5C;\n",
              "      box-shadow: 0px 1px 3px 1px rgba(0, 0, 0, 0.15);\n",
              "      filter: drop-shadow(0px 1px 2px rgba(0, 0, 0, 0.3));\n",
              "      fill: #FFFFFF;\n",
              "    }\n",
              "  </style>\n",
              "\n",
              "      <script>\n",
              "        const buttonEl =\n",
              "          document.querySelector('#df-cb7a0b7f-a413-44bb-8766-b0d57b119c86 button.colab-df-convert');\n",
              "        buttonEl.style.display =\n",
              "          google.colab.kernel.accessAllowed ? 'block' : 'none';\n",
              "\n",
              "        async function convertToInteractive(key) {\n",
              "          const element = document.querySelector('#df-cb7a0b7f-a413-44bb-8766-b0d57b119c86');\n",
              "          const dataTable =\n",
              "            await google.colab.kernel.invokeFunction('convertToInteractive',\n",
              "                                                     [key], {});\n",
              "          if (!dataTable) return;\n",
              "\n",
              "          const docLinkHtml = 'Like what you see? Visit the ' +\n",
              "            '<a target=\"_blank\" href=https://colab.research.google.com/notebooks/data_table.ipynb>data table notebook</a>'\n",
              "            + ' to learn more about interactive tables.';\n",
              "          element.innerHTML = '';\n",
              "          dataTable['output_type'] = 'display_data';\n",
              "          await google.colab.output.renderOutput(dataTable, element);\n",
              "          const docLink = document.createElement('div');\n",
              "          docLink.innerHTML = docLinkHtml;\n",
              "          element.appendChild(docLink);\n",
              "        }\n",
              "      </script>\n",
              "    </div>\n",
              "  </div>\n",
              "  "
            ]
          },
          "metadata": {},
          "execution_count": 97
        }
      ],
      "source": [
        "df_top10clubs.groupby(\"Club\", as_index= False).median().sort_values(\"Overall\", ascending = False).head(10)"
      ]
    },
    {
      "cell_type": "code",
      "execution_count": null,
      "metadata": {
        "id": "KVYY1UfQyvzL"
      },
      "outputs": [],
      "source": [
        "def club_overall():\n",
        "    clubs = topclubs\n",
        "    c = data.query('Club in @clubs')\n",
        "\n",
        "    sns.set(style=\"ticks\", palette=\"pastel\")\n",
        "    a4_dims = (11.7, 8.27)\n",
        "    fig, ax = plt.subplots(figsize=a4_dims)\n",
        "\n",
        "    box_wage = sns.boxplot(data = c, y = 'Overall', x = 'Club')\n",
        "    sns.despine(offset=10, trim=True)\n",
        "    a = plt.setp(ax.get_xticklabels(), rotation=45)"
      ]
    },
    {
      "cell_type": "code",
      "execution_count": null,
      "metadata": {
        "id": "u-h2U9FsyzKT",
        "colab": {
          "base_uri": "https://localhost:8080/",
          "height": 602
        },
        "outputId": "34dc1a09-bb26-4b85-f51f-a95aae1ee811"
      },
      "outputs": [
        {
          "output_type": "display_data",
          "data": {
            "text/plain": [
              "<Figure size 842.4x595.44 with 1 Axes>"
            ],
            "image/png": "[encoded data removed]"
          },
          "metadata": {}
        }
      ],
      "source": [
        "club_overall()"
      ]
    },
    {
      "cell_type": "code",
      "execution_count": null,
      "metadata": {
        "id": "WDi35BFQy6YL"
      },
      "outputs": [],
      "source": [
        "df_top10clubs = data[[\"Name\", \"Overall\", \"Club\"]]\n",
        "topclubs = df_top10clubs.groupby(\"Club\", as_index= False).median().sort_values(\"Overall\", ascending = False).head(10)\n",
        "topclubs = list(topclubs[\"Club\"])\n",
        "def club_potential():\n",
        "    clubs = topclubs\n",
        "    c = data.query('Club in @clubs')\n",
        "\n",
        "    sns.set(style=\"ticks\", palette=\"pastel\")\n",
        "    a4_dims = (11.7, 8.27)\n",
        "    fig, ax = plt.subplots(figsize=a4_dims)\n",
        "\n",
        "    box_wage = sns.catplot( y = 'Potential', x = 'Club',data = c)\n",
        "    sns.despine(offset=10, trim=True)\n",
        "    a = plt.setp(ax.get_xticklabels(), rotation=45)\n"
      ]
    },
    {
      "cell_type": "code",
      "execution_count": null,
      "metadata": {
        "id": "OmdxOaRvzCUm",
        "colab": {
          "base_uri": "https://localhost:8080/",
          "height": 871
        },
        "outputId": "9b46c6fa-664d-4bd1-f294-a0a1c065d634"
      },
      "outputs": [
        {
          "output_type": "display_data",
          "data": {
            "text/plain": [
              "<Figure size 842.4x595.44 with 1 Axes>"
            ],
            "image/png": "[encoded data removed]"
          },
          "metadata": {}
        },
        {
          "output_type": "display_data",
          "data": {
            "text/plain": [
              "<Figure size 360x360 with 1 Axes>"
            ],
            "image/png": "[encoded data removed]"
          },
          "metadata": {}
        }
      ],
      "source": [
        "club_potential()"
      ]
    },
    {
      "cell_type": "code",
      "execution_count": null,
      "metadata": {
        "id": "aIjxhqjqzGsL"
      },
      "outputs": [],
      "source": [
        "def clubwage():\n",
        "    clubs = topclubs\n",
        "    c = data.query('Club in @clubs')\n",
        "\n",
        "    sns.set(style=\"ticks\", palette=\"pastel\")\n",
        "    a4_dims = (12, 10)\n",
        "    fig, ax = plt.subplots(figsize=a4_dims)\n",
        "\n",
        "    box_wage = sns.boxplot(data = c, y = 'Wage', x = 'Club')\n",
        "    sns.despine(offset=10, trim=True)\n",
        "    a = plt.setp(ax.get_xticklabels(), rotation=45)"
      ]
    },
    {
      "cell_type": "code",
      "execution_count": null,
      "metadata": {
        "id": "W0FSl5nazMlm",
        "colab": {
          "base_uri": "https://localhost:8080/",
          "height": 696
        },
        "outputId": "451df283-2949-4c9f-bf1d-b166db6b721f"
      },
      "outputs": [
        {
          "output_type": "display_data",
          "data": {
            "text/plain": [
              "<Figure size 864x720 with 1 Axes>"
            ],
            "image/png": "[encoded data removed]"
          },
          "metadata": {}
        }
      ],
      "source": [
        "clubwage()"
      ]
    },
    {
      "cell_type": "code",
      "execution_count": null,
      "metadata": {
        "id": "TANt3yFvzQos"
      },
      "outputs": [],
      "source": [
        "def overall_potential():\n",
        "    df = data.copy()\n",
        "    overall = pd.DataFrame(df.groupby([\"Age\"])['Overall'].mean())\n",
        "    potential = pd.DataFrame(df.groupby([\"Age\"])['Potential'].mean())\n",
        "    merged = pd.merge(overall, potential, on='Age', how='inner')\n",
        "    merged['Age']= merged.index\n",
        "    fig, ax = plt.subplots(figsize=(11, 8))\n",
        "    merged.reset_index(drop = True, inplace = True)\n",
        "    p = plt.plot('Age', 'Overall', data=merged, marker='.', color='skyblue', linewidth=1, label =\"Overall\" )\n",
        "    p = plt.plot('Age', 'Potential', data=merged, marker='.', color='green', linewidth=1, label = \"Potential\")\n",
        "    p = plt.legend()"
      ]
    },
    {
      "cell_type": "code",
      "execution_count": null,
      "metadata": {
        "id": "YCoS_9A9zV66",
        "colab": {
          "base_uri": "https://localhost:8080/",
          "height": 485
        },
        "outputId": "a40d0e57-f7b3-42ac-efec-a725f999c319"
      },
      "outputs": [
        {
          "output_type": "display_data",
          "data": {
            "text/plain": [
              "<Figure size 792x576 with 1 Axes>"
            ],
            "image/png": "[encoded data removed]"
          },
          "metadata": {}
        }
      ],
      "source": [
        "overall_potential()"
      ]
    },
    {
      "cell_type": "code",
      "execution_count": null,
      "metadata": {
        "id": "4czB1pcAzX4Z"
      },
      "outputs": [],
      "source": [
        "#Selects list of non-goal keeper attribute ratings and creates a correlation matrix(as a heatmap) with respect to Overall Rating\n",
        "def correlation():\n",
        "    L = [11]+list(range(13,25))+list(range(30,48))\n",
        "    df = data.iloc[ :, L]\n",
        "    fig, ax = plt.subplots()\n",
        "    fig.set_size_inches(13,11)\n",
        "    ax = sns.heatmap(df.corr(),cmap = \"Blues\").set_title('Correlation matrix')"
      ]
    },
    {
      "cell_type": "code",
      "execution_count": null,
      "metadata": {
        "id": "36rkH7S8zcpR",
        "colab": {
          "base_uri": "https://localhost:8080/",
          "height": 757
        },
        "outputId": "5d76179c-77d3-465b-b3ac-90597ca4215f"
      },
      "outputs": [
        {
          "output_type": "display_data",
          "data": {
            "text/plain": [
              "<Figure size 936x792 with 2 Axes>"
            ],
            "image/png": "[encoded data removed]"
          },
          "metadata": {}
        }
      ],
      "source": [
        "correlation()"
      ]
    },
    {
      "cell_type": "code",
      "execution_count": null,
      "metadata": {
        "id": "rBPa1xnfzeh-",
        "colab": {
          "base_uri": "https://localhost:8080/",
          "height": 1000
        },
        "outputId": "2ebf6d99-3675-4b2f-8603-a16bafc370cc"
      },
      "outputs": [
        {
          "output_type": "execute_result",
          "data": {
            "text/plain": [
              "                Age   Overall  Potential     Value      Wage   Special  \\\n",
              "Overall    0.459765  1.000000   0.683474  0.626001  0.593789  0.604092   \n",
              "Potential -0.218264  0.683474   1.000000  0.588074  0.519062  0.399511   \n",
              "Value      0.079309  0.626001   0.588074  1.000000  0.850510  0.376629   \n",
              "Wage       0.150006  0.593789   0.519062  0.850510  1.000000  0.367419   \n",
              "Special    0.238667  0.604092   0.399511  0.376629  0.367419  1.000000   \n",
              "Composure  0.322318  0.629755   0.402119  0.402123  0.391802  0.803480   \n",
              "Reactions  0.460826  0.840578   0.520029  0.531255  0.502202  0.587610   \n",
              "CAM        0.245855  0.650313   0.470421  0.454702  0.412427  0.854197   \n",
              "CDM        0.383450  0.607727   0.345344  0.310861  0.321822  0.650723   \n",
              "CF         0.235596  0.636278   0.458830  0.450063  0.408102  0.822487   \n",
              "CM         0.365783  0.764609   0.508133  0.487380  0.457183  0.943764   \n",
              "LAM        0.245855  0.650313   0.470421  0.454702  0.412427  0.854197   \n",
              "LB         0.321227  0.561887   0.330672  0.285914  0.299300  0.623048   \n",
              "LCM        0.365783  0.764609   0.508133  0.487380  0.457183  0.943764   \n",
              "LDM        0.383450  0.607727   0.345344  0.310861  0.321822  0.650723   \n",
              "LF         0.235596  0.636278   0.458830  0.450063  0.408102  0.822487   \n",
              "LM         0.232945  0.656745   0.474998  0.453571  0.412422  0.872130   \n",
              "LS         0.287541  0.664822   0.447747  0.456517  0.421092  0.793552   \n",
              "LW         0.206051  0.610198   0.448580  0.432871  0.390940  0.825615   \n",
              "LWB        0.337143  0.629401   0.383213  0.338847  0.343395  0.735167   \n",
              "RAM        0.245855  0.650313   0.470421  0.454702  0.412427  0.854197   \n",
              "RB         0.321227  0.561887   0.330672  0.285914  0.299300  0.623048   \n",
              "RCM        0.365783  0.764609   0.508133  0.487380  0.457183  0.943764   \n",
              "RDM        0.383450  0.607727   0.345344  0.310861  0.321822  0.650723   \n",
              "RF         0.235596  0.636278   0.458830  0.450063  0.408102  0.822487   \n",
              "RM         0.232945  0.656745   0.474998  0.453571  0.412422  0.872130   \n",
              "RS         0.287541  0.664822   0.447747  0.456517  0.421092  0.793552   \n",
              "RW         0.206051  0.610198   0.448580  0.432871  0.390940  0.825615   \n",
              "RWB        0.337143  0.629401   0.383213  0.338847  0.343395  0.735167   \n",
              "ST         0.287541  0.664822   0.447747  0.456517  0.421092  0.793552   \n",
              "\n",
              "           Acceleration  Aggression   Agility   Balance  ...        RB  \\\n",
              "Overall        0.204208    0.398523  0.265458  0.096650  ...  0.561887   \n",
              "Potential      0.244777    0.188953  0.233688  0.133937  ...  0.330672   \n",
              "Value          0.176705    0.187013  0.201782  0.105964  ...  0.285914   \n",
              "Wage           0.146776    0.206926  0.174240  0.085943  ...  0.299300   \n",
              "Special        0.649445    0.667080  0.690667  0.578269  ...  0.623048   \n",
              "Composure      0.437962    0.582043  0.494172  0.374127  ...  0.416531   \n",
              "Reactions      0.191965    0.395601  0.278791  0.138629  ...  0.524636   \n",
              "CAM            0.482323    0.058404  0.644696  0.453448  ...  0.204500   \n",
              "CDM           -0.125382    0.711143 -0.026538 -0.053700  ...  0.968022   \n",
              "CF             0.506615    0.025880  0.630668  0.428978  ...  0.123218   \n",
              "CM             0.275923    0.332192  0.470058  0.322302  ...  0.558706   \n",
              "LAM            0.482323    0.058404  0.644696  0.453448  ...  0.204500   \n",
              "LB             0.006915    0.655060  0.031561  0.008339  ...  1.000000   \n",
              "LCM            0.275923    0.332192  0.470058  0.322302  ...  0.558706   \n",
              "LDM           -0.125382    0.711143 -0.026538 -0.053700  ...  0.968022   \n",
              "LF             0.506615    0.025880  0.630668  0.428978  ...  0.123218   \n",
              "LM             0.562680    0.074988  0.674430  0.485074  ...  0.273691   \n",
              "LS             0.426638    0.072648  0.528098  0.297609  ...  0.077723   \n",
              "LW             0.580781    0.000116  0.697810  0.497642  ...  0.158306   \n",
              "LWB            0.108385    0.614614  0.161883  0.111751  ...  0.981366   \n",
              "RAM            0.482323    0.058404  0.644696  0.453448  ...  0.204500   \n",
              "RB             0.006915    0.655060  0.031561  0.008339  ...  1.000000   \n",
              "RCM            0.275923    0.332192  0.470058  0.322302  ...  0.558706   \n",
              "RDM           -0.125382    0.711143 -0.026538 -0.053700  ...  0.968022   \n",
              "RF             0.506615    0.025880  0.630668  0.428978  ...  0.123218   \n",
              "RM             0.562680    0.074988  0.674430  0.485074  ...  0.273691   \n",
              "RS             0.426638    0.072648  0.528098  0.297609  ...  0.077723   \n",
              "RW             0.580781    0.000116  0.697810  0.497642  ...  0.158306   \n",
              "RWB            0.108385    0.614614  0.161883  0.111751  ...  0.981366   \n",
              "ST             0.426638    0.072648  0.528098  0.297609  ...  0.077723   \n",
              "\n",
              "                RCB       RCM       RDM        RF        RM        RS  \\\n",
              "Overall    0.448856  0.764609  0.607727  0.636278  0.656745  0.664822   \n",
              "Potential  0.219380  0.508133  0.345344  0.458830  0.474998  0.447747   \n",
              "Value      0.189990  0.487380  0.310861  0.450063  0.453571  0.456517   \n",
              "Wage       0.220554  0.457183  0.321822  0.408102  0.412422  0.421092   \n",
              "Special    0.401629  0.943764  0.650723  0.822487  0.872130  0.793552   \n",
              "Composure  0.312258  0.713268  0.487595  0.615240  0.615881  0.629247   \n",
              "Reactions  0.410237  0.732892  0.570878  0.613173  0.622916  0.629620   \n",
              "CAM       -0.070694  0.903315  0.257182  0.986346  0.983408  0.927452   \n",
              "CDM        0.929486  0.631197  1.000000  0.165728  0.292332  0.129067   \n",
              "CF        -0.141250  0.846493  0.165728  1.000000  0.970136  0.967872   \n",
              "CM         0.328064  1.000000  0.631197  0.846493  0.898170  0.779877   \n",
              "LAM       -0.070694  0.903315  0.257182  0.986346  0.983408  0.927452   \n",
              "LB         0.926170  0.558706  0.968022  0.123218  0.273691  0.077723   \n",
              "LCM        0.328064  1.000000  0.631197  0.846493  0.898170  0.779877   \n",
              "LDM        0.929486  0.631197  1.000000  0.165728  0.292332  0.129067   \n",
              "LF        -0.141250  0.846493  0.165728  1.000000  0.970136  0.967872   \n",
              "LM        -0.029624  0.898170  0.292332  0.970136  1.000000  0.900747   \n",
              "LS        -0.129200  0.779877  0.129067  0.967872  0.900747  1.000000   \n",
              "LW        -0.139745  0.844640  0.175801  0.986833  0.988587  0.929186   \n",
              "LWB        0.849959  0.685704  0.955188  0.286582  0.439558  0.222406   \n",
              "RAM       -0.070694  0.903315  0.257182  0.986346  0.983408  0.927452   \n",
              "RB         0.926170  0.558706  0.968022  0.123218  0.273691  0.077723   \n",
              "RCM        0.328064  1.000000  0.631197  0.846493  0.898170  0.779877   \n",
              "RDM        0.929486  0.631197  1.000000  0.165728  0.292332  0.129067   \n",
              "RF        -0.141250  0.846493  0.165728  1.000000  0.970136  0.967872   \n",
              "RM        -0.029624  0.898170  0.292332  0.970136  1.000000  0.900747   \n",
              "RS        -0.129200  0.779877  0.129067  0.967872  0.900747  1.000000   \n",
              "RW        -0.139745  0.844640  0.175801  0.986833  0.988587  0.929186   \n",
              "RWB        0.849959  0.685704  0.955188  0.286582  0.439558  0.222406   \n",
              "ST        -0.129200  0.779877  0.129067  0.967872  0.900747  1.000000   \n",
              "\n",
              "                 RW       RWB        ST  \n",
              "Overall    0.610198  0.629401  0.664822  \n",
              "Potential  0.448580  0.383213  0.447747  \n",
              "Value      0.432871  0.338847  0.456517  \n",
              "Wage       0.390940  0.343395  0.421092  \n",
              "Special    0.825615  0.735167  0.793552  \n",
              "Composure  0.583742  0.490408  0.629247  \n",
              "Reactions  0.581809  0.591106  0.629620  \n",
              "CAM        0.983941  0.368896  0.927452  \n",
              "CDM        0.175801  0.955188  0.129067  \n",
              "CF         0.986833  0.286582  0.967872  \n",
              "CM         0.844640  0.685704  0.779877  \n",
              "LAM        0.983941  0.368896  0.927452  \n",
              "LB         0.158306  0.981366  0.077723  \n",
              "LCM        0.844640  0.685704  0.779877  \n",
              "LDM        0.175801  0.955188  0.129067  \n",
              "LF         0.986833  0.286582  0.967872  \n",
              "LM         0.988587  0.439558  0.900747  \n",
              "LS         0.929186  0.222406  1.000000  \n",
              "LW         1.000000  0.327975  0.929186  \n",
              "LWB        0.327975  1.000000  0.222406  \n",
              "RAM        0.983941  0.368896  0.927452  \n",
              "RB         0.158306  0.981366  0.077723  \n",
              "RCM        0.844640  0.685704  0.779877  \n",
              "RDM        0.175801  0.955188  0.129067  \n",
              "RF         0.986833  0.286582  0.967872  \n",
              "RM         0.988587  0.439558  0.900747  \n",
              "RS         0.929186  0.222406  1.000000  \n",
              "RW         1.000000  0.327975  0.929186  \n",
              "RWB        0.327975  1.000000  0.222406  \n",
              "ST         0.929186  0.222406  1.000000  \n",
              "\n",
              "[30 rows x 67 columns]"
            ],
            "text/html": [
              "\n",
              "  <div id=\"df-09dda424-f9e0-4242-aa20-1de985addcbe\">\n",
              "    <div class=\"colab-df-container\">\n",
              "      <div>\n",
              "<style scoped>\n",
              "    .dataframe tbody tr th:only-of-type {\n",
              "        vertical-align: middle;\n",
              "    }\n",
              "\n",
              "    .dataframe tbody tr th {\n",
              "        vertical-align: top;\n",
              "    }\n",
              "\n",
              "    .dataframe thead th {\n",
              "        text-align: right;\n",
              "    }\n",
              "</style>\n",
              "<table border=\"1\" class=\"dataframe\">\n",
              "  <thead>\n",
              "    <tr style=\"text-align: right;\">\n",
              "      <th></th>\n",
              "      <th>Age</th>\n",
              "      <th>Overall</th>\n",
              "      <th>Potential</th>\n",
              "      <th>Value</th>\n",
              "      <th>Wage</th>\n",
              "      <th>Special</th>\n",
              "      <th>Acceleration</th>\n",
              "      <th>Aggression</th>\n",
              "      <th>Agility</th>\n",
              "      <th>Balance</th>\n",
              "      <th>...</th>\n",
              "      <th>RB</th>\n",
              "      <th>RCB</th>\n",
              "      <th>RCM</th>\n",
              "      <th>RDM</th>\n",
              "      <th>RF</th>\n",
              "      <th>RM</th>\n",
              "      <th>RS</th>\n",
              "      <th>RW</th>\n",
              "      <th>RWB</th>\n",
              "      <th>ST</th>\n",
              "    </tr>\n",
              "  </thead>\n",
              "  <tbody>\n",
              "    <tr>\n",
              "      <th>Overall</th>\n",
              "      <td>0.459765</td>\n",
              "      <td>1.000000</td>\n",
              "      <td>0.683474</td>\n",
              "      <td>0.626001</td>\n",
              "      <td>0.593789</td>\n",
              "      <td>0.604092</td>\n",
              "      <td>0.204208</td>\n",
              "      <td>0.398523</td>\n",
              "      <td>0.265458</td>\n",
              "      <td>0.096650</td>\n",
              "      <td>...</td>\n",
              "      <td>0.561887</td>\n",
              "      <td>0.448856</td>\n",
              "      <td>0.764609</td>\n",
              "      <td>0.607727</td>\n",
              "      <td>0.636278</td>\n",
              "      <td>0.656745</td>\n",
              "      <td>0.664822</td>\n",
              "      <td>0.610198</td>\n",
              "      <td>0.629401</td>\n",
              "      <td>0.664822</td>\n",
              "    </tr>\n",
              "    <tr>\n",
              "      <th>Potential</th>\n",
              "      <td>-0.218264</td>\n",
              "      <td>0.683474</td>\n",
              "      <td>1.000000</td>\n",
              "      <td>0.588074</td>\n",
              "      <td>0.519062</td>\n",
              "      <td>0.399511</td>\n",
              "      <td>0.244777</td>\n",
              "      <td>0.188953</td>\n",
              "      <td>0.233688</td>\n",
              "      <td>0.133937</td>\n",
              "      <td>...</td>\n",
              "      <td>0.330672</td>\n",
              "      <td>0.219380</td>\n",
              "      <td>0.508133</td>\n",
              "      <td>0.345344</td>\n",
              "      <td>0.458830</td>\n",
              "      <td>0.474998</td>\n",
              "      <td>0.447747</td>\n",
              "      <td>0.448580</td>\n",
              "      <td>0.383213</td>\n",
              "      <td>0.447747</td>\n",
              "    </tr>\n",
              "    <tr>\n",
              "      <th>Value</th>\n",
              "      <td>0.079309</td>\n",
              "      <td>0.626001</td>\n",
              "      <td>0.588074</td>\n",
              "      <td>1.000000</td>\n",
              "      <td>0.850510</td>\n",
              "      <td>0.376629</td>\n",
              "      <td>0.176705</td>\n",
              "      <td>0.187013</td>\n",
              "      <td>0.201782</td>\n",
              "      <td>0.105964</td>\n",
              "      <td>...</td>\n",
              "      <td>0.285914</td>\n",
              "      <td>0.189990</td>\n",
              "      <td>0.487380</td>\n",
              "      <td>0.310861</td>\n",
              "      <td>0.450063</td>\n",
              "      <td>0.453571</td>\n",
              "      <td>0.456517</td>\n",
              "      <td>0.432871</td>\n",
              "      <td>0.338847</td>\n",
              "      <td>0.456517</td>\n",
              "    </tr>\n",
              "    <tr>\n",
              "      <th>Wage</th>\n",
              "      <td>0.150006</td>\n",
              "      <td>0.593789</td>\n",
              "      <td>0.519062</td>\n",
              "      <td>0.850510</td>\n",
              "      <td>1.000000</td>\n",
              "      <td>0.367419</td>\n",
              "      <td>0.146776</td>\n",
              "      <td>0.206926</td>\n",
              "      <td>0.174240</td>\n",
              "      <td>0.085943</td>\n",
              "      <td>...</td>\n",
              "      <td>0.299300</td>\n",
              "      <td>0.220554</td>\n",
              "      <td>0.457183</td>\n",
              "      <td>0.321822</td>\n",
              "      <td>0.408102</td>\n",
              "      <td>0.412422</td>\n",
              "      <td>0.421092</td>\n",
              "      <td>0.390940</td>\n",
              "      <td>0.343395</td>\n",
              "      <td>0.421092</td>\n",
              "    </tr>\n",
              "    <tr>\n",
              "      <th>Special</th>\n",
              "      <td>0.238667</td>\n",
              "      <td>0.604092</td>\n",
              "      <td>0.399511</td>\n",
              "      <td>0.376629</td>\n",
              "      <td>0.367419</td>\n",
              "      <td>1.000000</td>\n",
              "      <td>0.649445</td>\n",
              "      <td>0.667080</td>\n",
              "      <td>0.690667</td>\n",
              "      <td>0.578269</td>\n",
              "      <td>...</td>\n",
              "      <td>0.623048</td>\n",
              "      <td>0.401629</td>\n",
              "      <td>0.943764</td>\n",
              "      <td>0.650723</td>\n",
              "      <td>0.822487</td>\n",
              "      <td>0.872130</td>\n",
              "      <td>0.793552</td>\n",
              "      <td>0.825615</td>\n",
              "      <td>0.735167</td>\n",
              "      <td>0.793552</td>\n",
              "    </tr>\n",
              "    <tr>\n",
              "      <th>Composure</th>\n",
              "      <td>0.322318</td>\n",
              "      <td>0.629755</td>\n",
              "      <td>0.402119</td>\n",
              "      <td>0.402123</td>\n",
              "      <td>0.391802</td>\n",
              "      <td>0.803480</td>\n",
              "      <td>0.437962</td>\n",
              "      <td>0.582043</td>\n",
              "      <td>0.494172</td>\n",
              "      <td>0.374127</td>\n",
              "      <td>...</td>\n",
              "      <td>0.416531</td>\n",
              "      <td>0.312258</td>\n",
              "      <td>0.713268</td>\n",
              "      <td>0.487595</td>\n",
              "      <td>0.615240</td>\n",
              "      <td>0.615881</td>\n",
              "      <td>0.629247</td>\n",
              "      <td>0.583742</td>\n",
              "      <td>0.490408</td>\n",
              "      <td>0.629247</td>\n",
              "    </tr>\n",
              "    <tr>\n",
              "      <th>Reactions</th>\n",
              "      <td>0.460826</td>\n",
              "      <td>0.840578</td>\n",
              "      <td>0.520029</td>\n",
              "      <td>0.531255</td>\n",
              "      <td>0.502202</td>\n",
              "      <td>0.587610</td>\n",
              "      <td>0.191965</td>\n",
              "      <td>0.395601</td>\n",
              "      <td>0.278791</td>\n",
              "      <td>0.138629</td>\n",
              "      <td>...</td>\n",
              "      <td>0.524636</td>\n",
              "      <td>0.410237</td>\n",
              "      <td>0.732892</td>\n",
              "      <td>0.570878</td>\n",
              "      <td>0.613173</td>\n",
              "      <td>0.622916</td>\n",
              "      <td>0.629620</td>\n",
              "      <td>0.581809</td>\n",
              "      <td>0.591106</td>\n",
              "      <td>0.629620</td>\n",
              "    </tr>\n",
              "    <tr>\n",
              "      <th>CAM</th>\n",
              "      <td>0.245855</td>\n",
              "      <td>0.650313</td>\n",
              "      <td>0.470421</td>\n",
              "      <td>0.454702</td>\n",
              "      <td>0.412427</td>\n",
              "      <td>0.854197</td>\n",
              "      <td>0.482323</td>\n",
              "      <td>0.058404</td>\n",
              "      <td>0.644696</td>\n",
              "      <td>0.453448</td>\n",
              "      <td>...</td>\n",
              "      <td>0.204500</td>\n",
              "      <td>-0.070694</td>\n",
              "      <td>0.903315</td>\n",
              "      <td>0.257182</td>\n",
              "      <td>0.986346</td>\n",
              "      <td>0.983408</td>\n",
              "      <td>0.927452</td>\n",
              "      <td>0.983941</td>\n",
              "      <td>0.368896</td>\n",
              "      <td>0.927452</td>\n",
              "    </tr>\n",
              "    <tr>\n",
              "      <th>CDM</th>\n",
              "      <td>0.383450</td>\n",
              "      <td>0.607727</td>\n",
              "      <td>0.345344</td>\n",
              "      <td>0.310861</td>\n",
              "      <td>0.321822</td>\n",
              "      <td>0.650723</td>\n",
              "      <td>-0.125382</td>\n",
              "      <td>0.711143</td>\n",
              "      <td>-0.026538</td>\n",
              "      <td>-0.053700</td>\n",
              "      <td>...</td>\n",
              "      <td>0.968022</td>\n",
              "      <td>0.929486</td>\n",
              "      <td>0.631197</td>\n",
              "      <td>1.000000</td>\n",
              "      <td>0.165728</td>\n",
              "      <td>0.292332</td>\n",
              "      <td>0.129067</td>\n",
              "      <td>0.175801</td>\n",
              "      <td>0.955188</td>\n",
              "      <td>0.129067</td>\n",
              "    </tr>\n",
              "    <tr>\n",
              "      <th>CF</th>\n",
              "      <td>0.235596</td>\n",
              "      <td>0.636278</td>\n",
              "      <td>0.458830</td>\n",
              "      <td>0.450063</td>\n",
              "      <td>0.408102</td>\n",
              "      <td>0.822487</td>\n",
              "      <td>0.506615</td>\n",
              "      <td>0.025880</td>\n",
              "      <td>0.630668</td>\n",
              "      <td>0.428978</td>\n",
              "      <td>...</td>\n",
              "      <td>0.123218</td>\n",
              "      <td>-0.141250</td>\n",
              "      <td>0.846493</td>\n",
              "      <td>0.165728</td>\n",
              "      <td>1.000000</td>\n",
              "      <td>0.970136</td>\n",
              "      <td>0.967872</td>\n",
              "      <td>0.986833</td>\n",
              "      <td>0.286582</td>\n",
              "      <td>0.967872</td>\n",
              "    </tr>\n",
              "    <tr>\n",
              "      <th>CM</th>\n",
              "      <td>0.365783</td>\n",
              "      <td>0.764609</td>\n",
              "      <td>0.508133</td>\n",
              "      <td>0.487380</td>\n",
              "      <td>0.457183</td>\n",
              "      <td>0.943764</td>\n",
              "      <td>0.275923</td>\n",
              "      <td>0.332192</td>\n",
              "      <td>0.470058</td>\n",
              "      <td>0.322302</td>\n",
              "      <td>...</td>\n",
              "      <td>0.558706</td>\n",
              "      <td>0.328064</td>\n",
              "      <td>1.000000</td>\n",
              "      <td>0.631197</td>\n",
              "      <td>0.846493</td>\n",
              "      <td>0.898170</td>\n",
              "      <td>0.779877</td>\n",
              "      <td>0.844640</td>\n",
              "      <td>0.685704</td>\n",
              "      <td>0.779877</td>\n",
              "    </tr>\n",
              "    <tr>\n",
              "      <th>LAM</th>\n",
              "      <td>0.245855</td>\n",
              "      <td>0.650313</td>\n",
              "      <td>0.470421</td>\n",
              "      <td>0.454702</td>\n",
              "      <td>0.412427</td>\n",
              "      <td>0.854197</td>\n",
              "      <td>0.482323</td>\n",
              "      <td>0.058404</td>\n",
              "      <td>0.644696</td>\n",
              "      <td>0.453448</td>\n",
              "      <td>...</td>\n",
              "      <td>0.204500</td>\n",
              "      <td>-0.070694</td>\n",
              "      <td>0.903315</td>\n",
              "      <td>0.257182</td>\n",
              "      <td>0.986346</td>\n",
              "      <td>0.983408</td>\n",
              "      <td>0.927452</td>\n",
              "      <td>0.983941</td>\n",
              "      <td>0.368896</td>\n",
              "      <td>0.927452</td>\n",
              "    </tr>\n",
              "    <tr>\n",
              "      <th>LB</th>\n",
              "      <td>0.321227</td>\n",
              "      <td>0.561887</td>\n",
              "      <td>0.330672</td>\n",
              "      <td>0.285914</td>\n",
              "      <td>0.299300</td>\n",
              "      <td>0.623048</td>\n",
              "      <td>0.006915</td>\n",
              "      <td>0.655060</td>\n",
              "      <td>0.031561</td>\n",
              "      <td>0.008339</td>\n",
              "      <td>...</td>\n",
              "      <td>1.000000</td>\n",
              "      <td>0.926170</td>\n",
              "      <td>0.558706</td>\n",
              "      <td>0.968022</td>\n",
              "      <td>0.123218</td>\n",
              "      <td>0.273691</td>\n",
              "      <td>0.077723</td>\n",
              "      <td>0.158306</td>\n",
              "      <td>0.981366</td>\n",
              "      <td>0.077723</td>\n",
              "    </tr>\n",
              "    <tr>\n",
              "      <th>LCM</th>\n",
              "      <td>0.365783</td>\n",
              "      <td>0.764609</td>\n",
              "      <td>0.508133</td>\n",
              "      <td>0.487380</td>\n",
              "      <td>0.457183</td>\n",
              "      <td>0.943764</td>\n",
              "      <td>0.275923</td>\n",
              "      <td>0.332192</td>\n",
              "      <td>0.470058</td>\n",
              "      <td>0.322302</td>\n",
              "      <td>...</td>\n",
              "      <td>0.558706</td>\n",
              "      <td>0.328064</td>\n",
              "      <td>1.000000</td>\n",
              "      <td>0.631197</td>\n",
              "      <td>0.846493</td>\n",
              "      <td>0.898170</td>\n",
              "      <td>0.779877</td>\n",
              "      <td>0.844640</td>\n",
              "      <td>0.685704</td>\n",
              "      <td>0.779877</td>\n",
              "    </tr>\n",
              "    <tr>\n",
              "      <th>LDM</th>\n",
              "      <td>0.383450</td>\n",
              "      <td>0.607727</td>\n",
              "      <td>0.345344</td>\n",
              "      <td>0.310861</td>\n",
              "      <td>0.321822</td>\n",
              "      <td>0.650723</td>\n",
              "      <td>-0.125382</td>\n",
              "      <td>0.711143</td>\n",
              "      <td>-0.026538</td>\n",
              "      <td>-0.053700</td>\n",
              "      <td>...</td>\n",
              "      <td>0.968022</td>\n",
              "      <td>0.929486</td>\n",
              "      <td>0.631197</td>\n",
              "      <td>1.000000</td>\n",
              "      <td>0.165728</td>\n",
              "      <td>0.292332</td>\n",
              "      <td>0.129067</td>\n",
              "      <td>0.175801</td>\n",
              "      <td>0.955188</td>\n",
              "      <td>0.129067</td>\n",
              "    </tr>\n",
              "    <tr>\n",
              "      <th>LF</th>\n",
              "      <td>0.235596</td>\n",
              "      <td>0.636278</td>\n",
              "      <td>0.458830</td>\n",
              "      <td>0.450063</td>\n",
              "      <td>0.408102</td>\n",
              "      <td>0.822487</td>\n",
              "      <td>0.506615</td>\n",
              "      <td>0.025880</td>\n",
              "      <td>0.630668</td>\n",
              "      <td>0.428978</td>\n",
              "      <td>...</td>\n",
              "      <td>0.123218</td>\n",
              "      <td>-0.141250</td>\n",
              "      <td>0.846493</td>\n",
              "      <td>0.165728</td>\n",
              "      <td>1.000000</td>\n",
              "      <td>0.970136</td>\n",
              "      <td>0.967872</td>\n",
              "      <td>0.986833</td>\n",
              "      <td>0.286582</td>\n",
              "      <td>0.967872</td>\n",
              "    </tr>\n",
              "    <tr>\n",
              "      <th>LM</th>\n",
              "      <td>0.232945</td>\n",
              "      <td>0.656745</td>\n",
              "      <td>0.474998</td>\n",
              "      <td>0.453571</td>\n",
              "      <td>0.412422</td>\n",
              "      <td>0.872130</td>\n",
              "      <td>0.562680</td>\n",
              "      <td>0.074988</td>\n",
              "      <td>0.674430</td>\n",
              "      <td>0.485074</td>\n",
              "      <td>...</td>\n",
              "      <td>0.273691</td>\n",
              "      <td>-0.029624</td>\n",
              "      <td>0.898170</td>\n",
              "      <td>0.292332</td>\n",
              "      <td>0.970136</td>\n",
              "      <td>1.000000</td>\n",
              "      <td>0.900747</td>\n",
              "      <td>0.988587</td>\n",
              "      <td>0.439558</td>\n",
              "      <td>0.900747</td>\n",
              "    </tr>\n",
              "    <tr>\n",
              "      <th>LS</th>\n",
              "      <td>0.287541</td>\n",
              "      <td>0.664822</td>\n",
              "      <td>0.447747</td>\n",
              "      <td>0.456517</td>\n",
              "      <td>0.421092</td>\n",
              "      <td>0.793552</td>\n",
              "      <td>0.426638</td>\n",
              "      <td>0.072648</td>\n",
              "      <td>0.528098</td>\n",
              "      <td>0.297609</td>\n",
              "      <td>...</td>\n",
              "      <td>0.077723</td>\n",
              "      <td>-0.129200</td>\n",
              "      <td>0.779877</td>\n",
              "      <td>0.129067</td>\n",
              "      <td>0.967872</td>\n",
              "      <td>0.900747</td>\n",
              "      <td>1.000000</td>\n",
              "      <td>0.929186</td>\n",
              "      <td>0.222406</td>\n",
              "      <td>1.000000</td>\n",
              "    </tr>\n",
              "    <tr>\n",
              "      <th>LW</th>\n",
              "      <td>0.206051</td>\n",
              "      <td>0.610198</td>\n",
              "      <td>0.448580</td>\n",
              "      <td>0.432871</td>\n",
              "      <td>0.390940</td>\n",
              "      <td>0.825615</td>\n",
              "      <td>0.580781</td>\n",
              "      <td>0.000116</td>\n",
              "      <td>0.697810</td>\n",
              "      <td>0.497642</td>\n",
              "      <td>...</td>\n",
              "      <td>0.158306</td>\n",
              "      <td>-0.139745</td>\n",
              "      <td>0.844640</td>\n",
              "      <td>0.175801</td>\n",
              "      <td>0.986833</td>\n",
              "      <td>0.988587</td>\n",
              "      <td>0.929186</td>\n",
              "      <td>1.000000</td>\n",
              "      <td>0.327975</td>\n",
              "      <td>0.929186</td>\n",
              "    </tr>\n",
              "    <tr>\n",
              "      <th>LWB</th>\n",
              "      <td>0.337143</td>\n",
              "      <td>0.629401</td>\n",
              "      <td>0.383213</td>\n",
              "      <td>0.338847</td>\n",
              "      <td>0.343395</td>\n",
              "      <td>0.735167</td>\n",
              "      <td>0.108385</td>\n",
              "      <td>0.614614</td>\n",
              "      <td>0.161883</td>\n",
              "      <td>0.111751</td>\n",
              "      <td>...</td>\n",
              "      <td>0.981366</td>\n",
              "      <td>0.849959</td>\n",
              "      <td>0.685704</td>\n",
              "      <td>0.955188</td>\n",
              "      <td>0.286582</td>\n",
              "      <td>0.439558</td>\n",
              "      <td>0.222406</td>\n",
              "      <td>0.327975</td>\n",
              "      <td>1.000000</td>\n",
              "      <td>0.222406</td>\n",
              "    </tr>\n",
              "    <tr>\n",
              "      <th>RAM</th>\n",
              "      <td>0.245855</td>\n",
              "      <td>0.650313</td>\n",
              "      <td>0.470421</td>\n",
              "      <td>0.454702</td>\n",
              "      <td>0.412427</td>\n",
              "      <td>0.854197</td>\n",
              "      <td>0.482323</td>\n",
              "      <td>0.058404</td>\n",
              "      <td>0.644696</td>\n",
              "      <td>0.453448</td>\n",
              "      <td>...</td>\n",
              "      <td>0.204500</td>\n",
              "      <td>-0.070694</td>\n",
              "      <td>0.903315</td>\n",
              "      <td>0.257182</td>\n",
              "      <td>0.986346</td>\n",
              "      <td>0.983408</td>\n",
              "      <td>0.927452</td>\n",
              "      <td>0.983941</td>\n",
              "      <td>0.368896</td>\n",
              "      <td>0.927452</td>\n",
              "    </tr>\n",
              "    <tr>\n",
              "      <th>RB</th>\n",
              "      <td>0.321227</td>\n",
              "      <td>0.561887</td>\n",
              "      <td>0.330672</td>\n",
              "      <td>0.285914</td>\n",
              "      <td>0.299300</td>\n",
              "      <td>0.623048</td>\n",
              "      <td>0.006915</td>\n",
              "      <td>0.655060</td>\n",
              "      <td>0.031561</td>\n",
              "      <td>0.008339</td>\n",
              "      <td>...</td>\n",
              "      <td>1.000000</td>\n",
              "      <td>0.926170</td>\n",
              "      <td>0.558706</td>\n",
              "      <td>0.968022</td>\n",
              "      <td>0.123218</td>\n",
              "      <td>0.273691</td>\n",
              "      <td>0.077723</td>\n",
              "      <td>0.158306</td>\n",
              "      <td>0.981366</td>\n",
              "      <td>0.077723</td>\n",
              "    </tr>\n",
              "    <tr>\n",
              "      <th>RCM</th>\n",
              "      <td>0.365783</td>\n",
              "      <td>0.764609</td>\n",
              "      <td>0.508133</td>\n",
              "      <td>0.487380</td>\n",
              "      <td>0.457183</td>\n",
              "      <td>0.943764</td>\n",
              "      <td>0.275923</td>\n",
              "      <td>0.332192</td>\n",
              "      <td>0.470058</td>\n",
              "      <td>0.322302</td>\n",
              "      <td>...</td>\n",
              "      <td>0.558706</td>\n",
              "      <td>0.328064</td>\n",
              "      <td>1.000000</td>\n",
              "      <td>0.631197</td>\n",
              "      <td>0.846493</td>\n",
              "      <td>0.898170</td>\n",
              "      <td>0.779877</td>\n",
              "      <td>0.844640</td>\n",
              "      <td>0.685704</td>\n",
              "      <td>0.779877</td>\n",
              "    </tr>\n",
              "    <tr>\n",
              "      <th>RDM</th>\n",
              "      <td>0.383450</td>\n",
              "      <td>0.607727</td>\n",
              "      <td>0.345344</td>\n",
              "      <td>0.310861</td>\n",
              "      <td>0.321822</td>\n",
              "      <td>0.650723</td>\n",
              "      <td>-0.125382</td>\n",
              "      <td>0.711143</td>\n",
              "      <td>-0.026538</td>\n",
              "      <td>-0.053700</td>\n",
              "      <td>...</td>\n",
              "      <td>0.968022</td>\n",
              "      <td>0.929486</td>\n",
              "      <td>0.631197</td>\n",
              "      <td>1.000000</td>\n",
              "      <td>0.165728</td>\n",
              "      <td>0.292332</td>\n",
              "      <td>0.129067</td>\n",
              "      <td>0.175801</td>\n",
              "      <td>0.955188</td>\n",
              "      <td>0.129067</td>\n",
              "    </tr>\n",
              "    <tr>\n",
              "      <th>RF</th>\n",
              "      <td>0.235596</td>\n",
              "      <td>0.636278</td>\n",
              "      <td>0.458830</td>\n",
              "      <td>0.450063</td>\n",
              "      <td>0.408102</td>\n",
              "      <td>0.822487</td>\n",
              "      <td>0.506615</td>\n",
              "      <td>0.025880</td>\n",
              "      <td>0.630668</td>\n",
              "      <td>0.428978</td>\n",
              "      <td>...</td>\n",
              "      <td>0.123218</td>\n",
              "      <td>-0.141250</td>\n",
              "      <td>0.846493</td>\n",
              "      <td>0.165728</td>\n",
              "      <td>1.000000</td>\n",
              "      <td>0.970136</td>\n",
              "      <td>0.967872</td>\n",
              "      <td>0.986833</td>\n",
              "      <td>0.286582</td>\n",
              "      <td>0.967872</td>\n",
              "    </tr>\n",
              "    <tr>\n",
              "      <th>RM</th>\n",
              "      <td>0.232945</td>\n",
              "      <td>0.656745</td>\n",
              "      <td>0.474998</td>\n",
              "      <td>0.453571</td>\n",
              "      <td>0.412422</td>\n",
              "      <td>0.872130</td>\n",
              "      <td>0.562680</td>\n",
              "      <td>0.074988</td>\n",
              "      <td>0.674430</td>\n",
              "      <td>0.485074</td>\n",
              "      <td>...</td>\n",
              "      <td>0.273691</td>\n",
              "      <td>-0.029624</td>\n",
              "      <td>0.898170</td>\n",
              "      <td>0.292332</td>\n",
              "      <td>0.970136</td>\n",
              "      <td>1.000000</td>\n",
              "      <td>0.900747</td>\n",
              "      <td>0.988587</td>\n",
              "      <td>0.439558</td>\n",
              "      <td>0.900747</td>\n",
              "    </tr>\n",
              "    <tr>\n",
              "      <th>RS</th>\n",
              "      <td>0.287541</td>\n",
              "      <td>0.664822</td>\n",
              "      <td>0.447747</td>\n",
              "      <td>0.456517</td>\n",
              "      <td>0.421092</td>\n",
              "      <td>0.793552</td>\n",
              "      <td>0.426638</td>\n",
              "      <td>0.072648</td>\n",
              "      <td>0.528098</td>\n",
              "      <td>0.297609</td>\n",
              "      <td>...</td>\n",
              "      <td>0.077723</td>\n",
              "      <td>-0.129200</td>\n",
              "      <td>0.779877</td>\n",
              "      <td>0.129067</td>\n",
              "      <td>0.967872</td>\n",
              "      <td>0.900747</td>\n",
              "      <td>1.000000</td>\n",
              "      <td>0.929186</td>\n",
              "      <td>0.222406</td>\n",
              "      <td>1.000000</td>\n",
              "    </tr>\n",
              "    <tr>\n",
              "      <th>RW</th>\n",
              "      <td>0.206051</td>\n",
              "      <td>0.610198</td>\n",
              "      <td>0.448580</td>\n",
              "      <td>0.432871</td>\n",
              "      <td>0.390940</td>\n",
              "      <td>0.825615</td>\n",
              "      <td>0.580781</td>\n",
              "      <td>0.000116</td>\n",
              "      <td>0.697810</td>\n",
              "      <td>0.497642</td>\n",
              "      <td>...</td>\n",
              "      <td>0.158306</td>\n",
              "      <td>-0.139745</td>\n",
              "      <td>0.844640</td>\n",
              "      <td>0.175801</td>\n",
              "      <td>0.986833</td>\n",
              "      <td>0.988587</td>\n",
              "      <td>0.929186</td>\n",
              "      <td>1.000000</td>\n",
              "      <td>0.327975</td>\n",
              "      <td>0.929186</td>\n",
              "    </tr>\n",
              "    <tr>\n",
              "      <th>RWB</th>\n",
              "      <td>0.337143</td>\n",
              "      <td>0.629401</td>\n",
              "      <td>0.383213</td>\n",
              "      <td>0.338847</td>\n",
              "      <td>0.343395</td>\n",
              "      <td>0.735167</td>\n",
              "      <td>0.108385</td>\n",
              "      <td>0.614614</td>\n",
              "      <td>0.161883</td>\n",
              "      <td>0.111751</td>\n",
              "      <td>...</td>\n",
              "      <td>0.981366</td>\n",
              "      <td>0.849959</td>\n",
              "      <td>0.685704</td>\n",
              "      <td>0.955188</td>\n",
              "      <td>0.286582</td>\n",
              "      <td>0.439558</td>\n",
              "      <td>0.222406</td>\n",
              "      <td>0.327975</td>\n",
              "      <td>1.000000</td>\n",
              "      <td>0.222406</td>\n",
              "    </tr>\n",
              "    <tr>\n",
              "      <th>ST</th>\n",
              "      <td>0.287541</td>\n",
              "      <td>0.664822</td>\n",
              "      <td>0.447747</td>\n",
              "      <td>0.456517</td>\n",
              "      <td>0.421092</td>\n",
              "      <td>0.793552</td>\n",
              "      <td>0.426638</td>\n",
              "      <td>0.072648</td>\n",
              "      <td>0.528098</td>\n",
              "      <td>0.297609</td>\n",
              "      <td>...</td>\n",
              "      <td>0.077723</td>\n",
              "      <td>-0.129200</td>\n",
              "      <td>0.779877</td>\n",
              "      <td>0.129067</td>\n",
              "      <td>0.967872</td>\n",
              "      <td>0.900747</td>\n",
              "      <td>1.000000</td>\n",
              "      <td>0.929186</td>\n",
              "      <td>0.222406</td>\n",
              "      <td>1.000000</td>\n",
              "    </tr>\n",
              "  </tbody>\n",
              "</table>\n",
              "<p>30 rows × 67 columns</p>\n",
              "</div>\n",
              "      <button class=\"colab-df-convert\" onclick=\"convertToInteractive('df-09dda424-f9e0-4242-aa20-1de985addcbe')\"\n",
              "              title=\"Convert this dataframe to an interactive table.\"\n",
              "              style=\"display:none;\">\n",
              "        \n",
              "  <svg xmlns=\"http://www.w3.org/2000/svg\" height=\"24px\"viewBox=\"0 0 24 24\"\n",
              "       width=\"24px\">\n",
              "    <path d=\"M0 0h24v24H0V0z\" fill=\"none\"/>\n",
              "    <path d=\"M18.56 5.44l.94 2.06.94-2.06 2.06-.94-2.06-.94-.94-2.06-.94 2.06-2.06.94zm-11 1L8.5 8.5l.94-2.06 2.06-.94-2.06-.94L8.5 2.5l-.94 2.06-2.06.94zm10 10l.94 2.06.94-2.06 2.06-.94-2.06-.94-.94-2.06-.94 2.06-2.06.94z\"/><path d=\"M17.41 7.96l-1.37-1.37c-.4-.4-.92-.59-1.43-.59-.52 0-1.04.2-1.43.59L10.3 9.45l-7.72 7.72c-.78.78-.78 2.05 0 2.83L4 21.41c.39.39.9.59 1.41.59.51 0 1.02-.2 1.41-.59l7.78-7.78 2.81-2.81c.8-.78.8-2.07 0-2.86zM5.41 20L4 18.59l7.72-7.72 1.47 1.35L5.41 20z\"/>\n",
              "  </svg>\n",
              "      </button>\n",
              "      \n",
              "  <style>\n",
              "    .colab-df-container {\n",
              "      display:flex;\n",
              "      flex-wrap:wrap;\n",
              "      gap: 12px;\n",
              "    }\n",
              "\n",
              "    .colab-df-convert {\n",
              "      background-color: #E8F0FE;\n",
              "      border: none;\n",
              "      border-radius: 50%;\n",
              "      cursor: pointer;\n",
              "      display: none;\n",
              "      fill: #1967D2;\n",
              "      height: 32px;\n",
              "      padding: 0 0 0 0;\n",
              "      width: 32px;\n",
              "    }\n",
              "\n",
              "    .colab-df-convert:hover {\n",
              "      background-color: #E2EBFA;\n",
              "      box-shadow: 0px 1px 2px rgba(60, 64, 67, 0.3), 0px 1px 3px 1px rgba(60, 64, 67, 0.15);\n",
              "      fill: #174EA6;\n",
              "    }\n",
              "\n",
              "    [theme=dark] .colab-df-convert {\n",
              "      background-color: #3B4455;\n",
              "      fill: #D2E3FC;\n",
              "    }\n",
              "\n",
              "    [theme=dark] .colab-df-convert:hover {\n",
              "      background-color: #434B5C;\n",
              "      box-shadow: 0px 1px 3px 1px rgba(0, 0, 0, 0.15);\n",
              "      filter: drop-shadow(0px 1px 2px rgba(0, 0, 0, 0.3));\n",
              "      fill: #FFFFFF;\n",
              "    }\n",
              "  </style>\n",
              "\n",
              "      <script>\n",
              "        const buttonEl =\n",
              "          document.querySelector('#df-09dda424-f9e0-4242-aa20-1de985addcbe button.colab-df-convert');\n",
              "        buttonEl.style.display =\n",
              "          google.colab.kernel.accessAllowed ? 'block' : 'none';\n",
              "\n",
              "        async function convertToInteractive(key) {\n",
              "          const element = document.querySelector('#df-09dda424-f9e0-4242-aa20-1de985addcbe');\n",
              "          const dataTable =\n",
              "            await google.colab.kernel.invokeFunction('convertToInteractive',\n",
              "                                                     [key], {});\n",
              "          if (!dataTable) return;\n",
              "\n",
              "          const docLinkHtml = 'Like what you see? Visit the ' +\n",
              "            '<a target=\"_blank\" href=https://colab.research.google.com/notebooks/data_table.ipynb>data table notebook</a>'\n",
              "            + ' to learn more about interactive tables.';\n",
              "          element.innerHTML = '';\n",
              "          dataTable['output_type'] = 'display_data';\n",
              "          await google.colab.output.renderOutput(dataTable, element);\n",
              "          const docLink = document.createElement('div');\n",
              "          docLink.innerHTML = docLinkHtml;\n",
              "          element.appendChild(docLink);\n",
              "        }\n",
              "      </script>\n",
              "    </div>\n",
              "  </div>\n",
              "  "
            ]
          },
          "metadata": {},
          "execution_count": 108
        }
      ],
      "source": [
        "df = data.copy()\n",
        "df_overall = df.corr()\n",
        "df_overall[df_overall['Overall']>=0.5]"
      ]
    },
    {
      "cell_type": "code",
      "execution_count": null,
      "metadata": {
        "id": "mDwdEp_rzlXu",
        "colab": {
          "base_uri": "https://localhost:8080/",
          "height": 574
        },
        "outputId": "98eee9b6-63bf-4c4b-98a6-64f6eb6ba226"
      },
      "outputs": [
        {
          "output_type": "execute_result",
          "data": {
            "text/plain": [
              "                    Age   Overall  Potential     Value      Wage   Special  \\\n",
              "Age            1.000000  0.459765  -0.218264  0.079309  0.150006  0.238667   \n",
              "Ball control   0.083289  0.452109   0.361380  0.309587  0.294039  0.906099   \n",
              "Curve          0.145262  0.413085   0.284305  0.286347  0.268419  0.846584   \n",
              "Long passing   0.185017  0.475162   0.329959  0.299363  0.290247  0.844672   \n",
              "Long shots     0.151130  0.412818   0.273407  0.280453  0.264717  0.832758   \n",
              "Short passing  0.130914  0.488375   0.371326  0.323913  0.308240  0.903003   \n",
              "Shot power     0.149648  0.427811   0.291052  0.280434  0.272138  0.829589   \n",
              "Vision         0.189895  0.481185   0.341213  0.345148  0.317941  0.754142   \n",
              "CB             0.337481  0.448856   0.219380  0.189990  0.220554  0.401629   \n",
              "LCB            0.337481  0.448856   0.219380  0.189990  0.220554  0.401629   \n",
              "RCB            0.337481  0.448856   0.219380  0.189990  0.220554  0.401629   \n",
              "\n",
              "               Acceleration  Aggression   Agility   Balance  ...        RB  \\\n",
              "Age               -0.152360    0.264230 -0.018748 -0.087471  ...  0.321227   \n",
              "Ball control       0.670556    0.539641  0.701015  0.596927  ...  0.278594   \n",
              "Curve              0.600083    0.392908  0.674919  0.578689  ...  0.176601   \n",
              "Long passing       0.433993    0.579853  0.515275  0.457718  ...  0.593834   \n",
              "Long shots         0.571380    0.389374  0.637671  0.522427  ...  0.031134   \n",
              "Short passing      0.561425    0.596585  0.610704  0.535376  ...  0.505533   \n",
              "Shot power         0.536658    0.494836  0.565988  0.452206  ...  0.089727   \n",
              "Vision             0.456469    0.296788  0.591396  0.487387  ...  0.183308   \n",
              "CB                -0.278589    0.748357 -0.258303 -0.251397  ...  0.926170   \n",
              "LCB               -0.278589    0.748357 -0.258303 -0.251397  ...  0.926170   \n",
              "RCB               -0.278589    0.748357 -0.258303 -0.251397  ...  0.926170   \n",
              "\n",
              "                    RCB       RCM       RDM        RF        RM        RS  \\\n",
              "Age            0.337481  0.365783  0.383450  0.235596  0.232945  0.287541   \n",
              "Ball control   0.037192  0.873643  0.336033  0.902495  0.911065  0.846925   \n",
              "Curve         -0.063921  0.724697  0.207348  0.783036  0.793301  0.729344   \n",
              "Long passing   0.429906  0.848347  0.694205  0.544039  0.641048  0.460245   \n",
              "Long shots    -0.157930  0.709531  0.099278  0.852065  0.778209  0.860504   \n",
              "Short passing  0.309181  0.916952  0.600788  0.726223  0.786031  0.654957   \n",
              "Shot power    -0.039964  0.647020  0.165033  0.762366  0.678388  0.822876   \n",
              "Vision        -0.044073  0.841507  0.269515  0.840995  0.841716  0.755299   \n",
              "CB             1.000000  0.328064  0.929486 -0.141250 -0.029624 -0.129200   \n",
              "LCB            1.000000  0.328064  0.929486 -0.141250 -0.029624 -0.129200   \n",
              "RCB            1.000000  0.328064  0.929486 -0.141250 -0.029624 -0.129200   \n",
              "\n",
              "                     RW       RWB        ST  \n",
              "Age            0.206051  0.337143  0.287541  \n",
              "Ball control   0.899655  0.425526  0.846925  \n",
              "Curve          0.795932  0.315823  0.729344  \n",
              "Long passing   0.555866  0.676560  0.460245  \n",
              "Long shots     0.817082  0.166831  0.860504  \n",
              "Short passing  0.725103  0.619095  0.654957  \n",
              "Shot power     0.700408  0.196946  0.822876  \n",
              "Vision         0.830745  0.325337  0.755299  \n",
              "CB            -0.139745  0.849959 -0.129200  \n",
              "LCB           -0.139745  0.849959 -0.129200  \n",
              "RCB           -0.139745  0.849959 -0.129200  \n",
              "\n",
              "[11 rows x 67 columns]"
            ],
            "text/html": [
              "\n",
              "  <div id=\"df-43d70a33-b063-4bf1-98dc-d3e6b1e410c2\">\n",
              "    <div class=\"colab-df-container\">\n",
              "      <div>\n",
              "<style scoped>\n",
              "    .dataframe tbody tr th:only-of-type {\n",
              "        vertical-align: middle;\n",
              "    }\n",
              "\n",
              "    .dataframe tbody tr th {\n",
              "        vertical-align: top;\n",
              "    }\n",
              "\n",
              "    .dataframe thead th {\n",
              "        text-align: right;\n",
              "    }\n",
              "</style>\n",
              "<table border=\"1\" class=\"dataframe\">\n",
              "  <thead>\n",
              "    <tr style=\"text-align: right;\">\n",
              "      <th></th>\n",
              "      <th>Age</th>\n",
              "      <th>Overall</th>\n",
              "      <th>Potential</th>\n",
              "      <th>Value</th>\n",
              "      <th>Wage</th>\n",
              "      <th>Special</th>\n",
              "      <th>Acceleration</th>\n",
              "      <th>Aggression</th>\n",
              "      <th>Agility</th>\n",
              "      <th>Balance</th>\n",
              "      <th>...</th>\n",
              "      <th>RB</th>\n",
              "      <th>RCB</th>\n",
              "      <th>RCM</th>\n",
              "      <th>RDM</th>\n",
              "      <th>RF</th>\n",
              "      <th>RM</th>\n",
              "      <th>RS</th>\n",
              "      <th>RW</th>\n",
              "      <th>RWB</th>\n",
              "      <th>ST</th>\n",
              "    </tr>\n",
              "  </thead>\n",
              "  <tbody>\n",
              "    <tr>\n",
              "      <th>Age</th>\n",
              "      <td>1.000000</td>\n",
              "      <td>0.459765</td>\n",
              "      <td>-0.218264</td>\n",
              "      <td>0.079309</td>\n",
              "      <td>0.150006</td>\n",
              "      <td>0.238667</td>\n",
              "      <td>-0.152360</td>\n",
              "      <td>0.264230</td>\n",
              "      <td>-0.018748</td>\n",
              "      <td>-0.087471</td>\n",
              "      <td>...</td>\n",
              "      <td>0.321227</td>\n",
              "      <td>0.337481</td>\n",
              "      <td>0.365783</td>\n",
              "      <td>0.383450</td>\n",
              "      <td>0.235596</td>\n",
              "      <td>0.232945</td>\n",
              "      <td>0.287541</td>\n",
              "      <td>0.206051</td>\n",
              "      <td>0.337143</td>\n",
              "      <td>0.287541</td>\n",
              "    </tr>\n",
              "    <tr>\n",
              "      <th>Ball control</th>\n",
              "      <td>0.083289</td>\n",
              "      <td>0.452109</td>\n",
              "      <td>0.361380</td>\n",
              "      <td>0.309587</td>\n",
              "      <td>0.294039</td>\n",
              "      <td>0.906099</td>\n",
              "      <td>0.670556</td>\n",
              "      <td>0.539641</td>\n",
              "      <td>0.701015</td>\n",
              "      <td>0.596927</td>\n",
              "      <td>...</td>\n",
              "      <td>0.278594</td>\n",
              "      <td>0.037192</td>\n",
              "      <td>0.873643</td>\n",
              "      <td>0.336033</td>\n",
              "      <td>0.902495</td>\n",
              "      <td>0.911065</td>\n",
              "      <td>0.846925</td>\n",
              "      <td>0.899655</td>\n",
              "      <td>0.425526</td>\n",
              "      <td>0.846925</td>\n",
              "    </tr>\n",
              "    <tr>\n",
              "      <th>Curve</th>\n",
              "      <td>0.145262</td>\n",
              "      <td>0.413085</td>\n",
              "      <td>0.284305</td>\n",
              "      <td>0.286347</td>\n",
              "      <td>0.268419</td>\n",
              "      <td>0.846584</td>\n",
              "      <td>0.600083</td>\n",
              "      <td>0.392908</td>\n",
              "      <td>0.674919</td>\n",
              "      <td>0.578689</td>\n",
              "      <td>...</td>\n",
              "      <td>0.176601</td>\n",
              "      <td>-0.063921</td>\n",
              "      <td>0.724697</td>\n",
              "      <td>0.207348</td>\n",
              "      <td>0.783036</td>\n",
              "      <td>0.793301</td>\n",
              "      <td>0.729344</td>\n",
              "      <td>0.795932</td>\n",
              "      <td>0.315823</td>\n",
              "      <td>0.729344</td>\n",
              "    </tr>\n",
              "    <tr>\n",
              "      <th>Long passing</th>\n",
              "      <td>0.185017</td>\n",
              "      <td>0.475162</td>\n",
              "      <td>0.329959</td>\n",
              "      <td>0.299363</td>\n",
              "      <td>0.290247</td>\n",
              "      <td>0.844672</td>\n",
              "      <td>0.433993</td>\n",
              "      <td>0.579853</td>\n",
              "      <td>0.515275</td>\n",
              "      <td>0.457718</td>\n",
              "      <td>...</td>\n",
              "      <td>0.593834</td>\n",
              "      <td>0.429906</td>\n",
              "      <td>0.848347</td>\n",
              "      <td>0.694205</td>\n",
              "      <td>0.544039</td>\n",
              "      <td>0.641048</td>\n",
              "      <td>0.460245</td>\n",
              "      <td>0.555866</td>\n",
              "      <td>0.676560</td>\n",
              "      <td>0.460245</td>\n",
              "    </tr>\n",
              "    <tr>\n",
              "      <th>Long shots</th>\n",
              "      <td>0.151130</td>\n",
              "      <td>0.412818</td>\n",
              "      <td>0.273407</td>\n",
              "      <td>0.280453</td>\n",
              "      <td>0.264717</td>\n",
              "      <td>0.832758</td>\n",
              "      <td>0.571380</td>\n",
              "      <td>0.389374</td>\n",
              "      <td>0.637671</td>\n",
              "      <td>0.522427</td>\n",
              "      <td>...</td>\n",
              "      <td>0.031134</td>\n",
              "      <td>-0.157930</td>\n",
              "      <td>0.709531</td>\n",
              "      <td>0.099278</td>\n",
              "      <td>0.852065</td>\n",
              "      <td>0.778209</td>\n",
              "      <td>0.860504</td>\n",
              "      <td>0.817082</td>\n",
              "      <td>0.166831</td>\n",
              "      <td>0.860504</td>\n",
              "    </tr>\n",
              "    <tr>\n",
              "      <th>Short passing</th>\n",
              "      <td>0.130914</td>\n",
              "      <td>0.488375</td>\n",
              "      <td>0.371326</td>\n",
              "      <td>0.323913</td>\n",
              "      <td>0.308240</td>\n",
              "      <td>0.903003</td>\n",
              "      <td>0.561425</td>\n",
              "      <td>0.596585</td>\n",
              "      <td>0.610704</td>\n",
              "      <td>0.535376</td>\n",
              "      <td>...</td>\n",
              "      <td>0.505533</td>\n",
              "      <td>0.309181</td>\n",
              "      <td>0.916952</td>\n",
              "      <td>0.600788</td>\n",
              "      <td>0.726223</td>\n",
              "      <td>0.786031</td>\n",
              "      <td>0.654957</td>\n",
              "      <td>0.725103</td>\n",
              "      <td>0.619095</td>\n",
              "      <td>0.654957</td>\n",
              "    </tr>\n",
              "    <tr>\n",
              "      <th>Shot power</th>\n",
              "      <td>0.149648</td>\n",
              "      <td>0.427811</td>\n",
              "      <td>0.291052</td>\n",
              "      <td>0.280434</td>\n",
              "      <td>0.272138</td>\n",
              "      <td>0.829589</td>\n",
              "      <td>0.536658</td>\n",
              "      <td>0.494836</td>\n",
              "      <td>0.565988</td>\n",
              "      <td>0.452206</td>\n",
              "      <td>...</td>\n",
              "      <td>0.089727</td>\n",
              "      <td>-0.039964</td>\n",
              "      <td>0.647020</td>\n",
              "      <td>0.165033</td>\n",
              "      <td>0.762366</td>\n",
              "      <td>0.678388</td>\n",
              "      <td>0.822876</td>\n",
              "      <td>0.700408</td>\n",
              "      <td>0.196946</td>\n",
              "      <td>0.822876</td>\n",
              "    </tr>\n",
              "    <tr>\n",
              "      <th>Vision</th>\n",
              "      <td>0.189895</td>\n",
              "      <td>0.481185</td>\n",
              "      <td>0.341213</td>\n",
              "      <td>0.345148</td>\n",
              "      <td>0.317941</td>\n",
              "      <td>0.754142</td>\n",
              "      <td>0.456469</td>\n",
              "      <td>0.296788</td>\n",
              "      <td>0.591396</td>\n",
              "      <td>0.487387</td>\n",
              "      <td>...</td>\n",
              "      <td>0.183308</td>\n",
              "      <td>-0.044073</td>\n",
              "      <td>0.841507</td>\n",
              "      <td>0.269515</td>\n",
              "      <td>0.840995</td>\n",
              "      <td>0.841716</td>\n",
              "      <td>0.755299</td>\n",
              "      <td>0.830745</td>\n",
              "      <td>0.325337</td>\n",
              "      <td>0.755299</td>\n",
              "    </tr>\n",
              "    <tr>\n",
              "      <th>CB</th>\n",
              "      <td>0.337481</td>\n",
              "      <td>0.448856</td>\n",
              "      <td>0.219380</td>\n",
              "      <td>0.189990</td>\n",
              "      <td>0.220554</td>\n",
              "      <td>0.401629</td>\n",
              "      <td>-0.278589</td>\n",
              "      <td>0.748357</td>\n",
              "      <td>-0.258303</td>\n",
              "      <td>-0.251397</td>\n",
              "      <td>...</td>\n",
              "      <td>0.926170</td>\n",
              "      <td>1.000000</td>\n",
              "      <td>0.328064</td>\n",
              "      <td>0.929486</td>\n",
              "      <td>-0.141250</td>\n",
              "      <td>-0.029624</td>\n",
              "      <td>-0.129200</td>\n",
              "      <td>-0.139745</td>\n",
              "      <td>0.849959</td>\n",
              "      <td>-0.129200</td>\n",
              "    </tr>\n",
              "    <tr>\n",
              "      <th>LCB</th>\n",
              "      <td>0.337481</td>\n",
              "      <td>0.448856</td>\n",
              "      <td>0.219380</td>\n",
              "      <td>0.189990</td>\n",
              "      <td>0.220554</td>\n",
              "      <td>0.401629</td>\n",
              "      <td>-0.278589</td>\n",
              "      <td>0.748357</td>\n",
              "      <td>-0.258303</td>\n",
              "      <td>-0.251397</td>\n",
              "      <td>...</td>\n",
              "      <td>0.926170</td>\n",
              "      <td>1.000000</td>\n",
              "      <td>0.328064</td>\n",
              "      <td>0.929486</td>\n",
              "      <td>-0.141250</td>\n",
              "      <td>-0.029624</td>\n",
              "      <td>-0.129200</td>\n",
              "      <td>-0.139745</td>\n",
              "      <td>0.849959</td>\n",
              "      <td>-0.129200</td>\n",
              "    </tr>\n",
              "    <tr>\n",
              "      <th>RCB</th>\n",
              "      <td>0.337481</td>\n",
              "      <td>0.448856</td>\n",
              "      <td>0.219380</td>\n",
              "      <td>0.189990</td>\n",
              "      <td>0.220554</td>\n",
              "      <td>0.401629</td>\n",
              "      <td>-0.278589</td>\n",
              "      <td>0.748357</td>\n",
              "      <td>-0.258303</td>\n",
              "      <td>-0.251397</td>\n",
              "      <td>...</td>\n",
              "      <td>0.926170</td>\n",
              "      <td>1.000000</td>\n",
              "      <td>0.328064</td>\n",
              "      <td>0.929486</td>\n",
              "      <td>-0.141250</td>\n",
              "      <td>-0.029624</td>\n",
              "      <td>-0.129200</td>\n",
              "      <td>-0.139745</td>\n",
              "      <td>0.849959</td>\n",
              "      <td>-0.129200</td>\n",
              "    </tr>\n",
              "  </tbody>\n",
              "</table>\n",
              "<p>11 rows × 67 columns</p>\n",
              "</div>\n",
              "      <button class=\"colab-df-convert\" onclick=\"convertToInteractive('df-43d70a33-b063-4bf1-98dc-d3e6b1e410c2')\"\n",
              "              title=\"Convert this dataframe to an interactive table.\"\n",
              "              style=\"display:none;\">\n",
              "        \n",
              "  <svg xmlns=\"http://www.w3.org/2000/svg\" height=\"24px\"viewBox=\"0 0 24 24\"\n",
              "       width=\"24px\">\n",
              "    <path d=\"M0 0h24v24H0V0z\" fill=\"none\"/>\n",
              "    <path d=\"M18.56 5.44l.94 2.06.94-2.06 2.06-.94-2.06-.94-.94-2.06-.94 2.06-2.06.94zm-11 1L8.5 8.5l.94-2.06 2.06-.94-2.06-.94L8.5 2.5l-.94 2.06-2.06.94zm10 10l.94 2.06.94-2.06 2.06-.94-2.06-.94-.94-2.06-.94 2.06-2.06.94z\"/><path d=\"M17.41 7.96l-1.37-1.37c-.4-.4-.92-.59-1.43-.59-.52 0-1.04.2-1.43.59L10.3 9.45l-7.72 7.72c-.78.78-.78 2.05 0 2.83L4 21.41c.39.39.9.59 1.41.59.51 0 1.02-.2 1.41-.59l7.78-7.78 2.81-2.81c.8-.78.8-2.07 0-2.86zM5.41 20L4 18.59l7.72-7.72 1.47 1.35L5.41 20z\"/>\n",
              "  </svg>\n",
              "      </button>\n",
              "      \n",
              "  <style>\n",
              "    .colab-df-container {\n",
              "      display:flex;\n",
              "      flex-wrap:wrap;\n",
              "      gap: 12px;\n",
              "    }\n",
              "\n",
              "    .colab-df-convert {\n",
              "      background-color: #E8F0FE;\n",
              "      border: none;\n",
              "      border-radius: 50%;\n",
              "      cursor: pointer;\n",
              "      display: none;\n",
              "      fill: #1967D2;\n",
              "      height: 32px;\n",
              "      padding: 0 0 0 0;\n",
              "      width: 32px;\n",
              "    }\n",
              "\n",
              "    .colab-df-convert:hover {\n",
              "      background-color: #E2EBFA;\n",
              "      box-shadow: 0px 1px 2px rgba(60, 64, 67, 0.3), 0px 1px 3px 1px rgba(60, 64, 67, 0.15);\n",
              "      fill: #174EA6;\n",
              "    }\n",
              "\n",
              "    [theme=dark] .colab-df-convert {\n",
              "      background-color: #3B4455;\n",
              "      fill: #D2E3FC;\n",
              "    }\n",
              "\n",
              "    [theme=dark] .colab-df-convert:hover {\n",
              "      background-color: #434B5C;\n",
              "      box-shadow: 0px 1px 3px 1px rgba(0, 0, 0, 0.15);\n",
              "      filter: drop-shadow(0px 1px 2px rgba(0, 0, 0, 0.3));\n",
              "      fill: #FFFFFF;\n",
              "    }\n",
              "  </style>\n",
              "\n",
              "      <script>\n",
              "        const buttonEl =\n",
              "          document.querySelector('#df-43d70a33-b063-4bf1-98dc-d3e6b1e410c2 button.colab-df-convert');\n",
              "        buttonEl.style.display =\n",
              "          google.colab.kernel.accessAllowed ? 'block' : 'none';\n",
              "\n",
              "        async function convertToInteractive(key) {\n",
              "          const element = document.querySelector('#df-43d70a33-b063-4bf1-98dc-d3e6b1e410c2');\n",
              "          const dataTable =\n",
              "            await google.colab.kernel.invokeFunction('convertToInteractive',\n",
              "                                                     [key], {});\n",
              "          if (!dataTable) return;\n",
              "\n",
              "          const docLinkHtml = 'Like what you see? Visit the ' +\n",
              "            '<a target=\"_blank\" href=https://colab.research.google.com/notebooks/data_table.ipynb>data table notebook</a>'\n",
              "            + ' to learn more about interactive tables.';\n",
              "          element.innerHTML = '';\n",
              "          dataTable['output_type'] = 'display_data';\n",
              "          await google.colab.output.renderOutput(dataTable, element);\n",
              "          const docLink = document.createElement('div');\n",
              "          docLink.innerHTML = docLinkHtml;\n",
              "          element.appendChild(docLink);\n",
              "        }\n",
              "      </script>\n",
              "    </div>\n",
              "  </div>\n",
              "  "
            ]
          },
          "metadata": {},
          "execution_count": 109
        }
      ],
      "source": [
        "df_overall[(df_overall['Overall'] >= 0.4) & (df_overall['Overall'] < 0.5)]"
      ]
    },
    {
      "cell_type": "code",
      "execution_count": null,
      "metadata": {
        "id": "X1jHn6ZPzqkQ"
      },
      "outputs": [],
      "source": [
        "data_top1000 = data\n",
        "# Grouping the data by Age as index and displaying Value and Wage as per age groups  \n",
        "age_wagevalue = data_top1000[data_top1000.Age<=38].groupby(['Age']).agg({'Wage': 'mean', 'Value': 'mean'})      \n",
        "\n",
        "# Plotting Value over Age with Line and Bar\n",
        "                                   \n",
        "data_plot1 = [\n",
        "    go.Scatter(\n",
        "        x=age_wagevalue.index, \n",
        "        y=age_wagevalue['Value'],\n",
        "        marker = dict(\n",
        "          color = 'rgb(0,0,153)'\n",
        "        ),\n",
        "                name = \"Average Player Value as Line\"\n",
        "            ),\n",
        "    go.Bar(\n",
        "        x = age_wagevalue.index,\n",
        "        y=age_wagevalue['Value'],\n",
        "        base = 0,\n",
        "        marker = dict(\n",
        "          color = 'rgb(51,153,255)'\n",
        "        ),\n",
        "                name = \"Average Player Value as Bars\"\n",
        "    )\n",
        "]\n",
        "\n",
        "layout_plot1 = go.Layout(\n",
        "    title='Value of players over Age',\n",
        "    yaxis=dict(title='Average Player Value in Euros(Millions)'),\n",
        "    xaxis=dict(title='Player Age')\n",
        ")\n",
        "\n",
        "fig1 = go.Figure(data=data_plot1, layout=layout_plot1)"
      ]
    },
    {
      "cell_type": "code",
      "execution_count": null,
      "metadata": {
        "id": "fESnnCjhzt_U",
        "colab": {
          "base_uri": "https://localhost:8080/",
          "height": 542
        },
        "outputId": "0b85524a-3cfe-48c7-b344-0c7a1efcb48a"
      },
      "outputs": [
        {
          "output_type": "display_data",
          "data": {
            "application/vnd.plotly.v1+json": {
              "data": [
                {
                  "marker": {
                    "color": "rgb(0,0,153)"
                  },
                  "name": "Average Player Value as Line",
                  "x": [
                    16,
                    17,
                    18,
                    19,
                    20,
                    21,
                    22,
                    23,
                    24,
                    25,
                    26,
                    27,
                    28,
                    29,
                    30,
                    31,
                    32,
                    33,
                    34,
                    35,
                    36,
                    37,
                    38
                  ],
                  "y": [
                    331153.8461538461,
                    322519.3798449612,
                    578809.5238095238,
                    717843.779232928,
                    1228710.843373494,
                    1737814.930015552,
                    2107054.3806646527,
                    2577033.7159253946,
                    2967762.368815592,
                    3122207.621550591,
                    3602691.3477537436,
                    3310399.3055555555,
                    3293092.2930542342,
                    3090249.776984835,
                    3504726.368159204,
                    2945588.6736214603,
                    2440899.209486166,
                    1638630.4700162075,
                    1264319.8529411764,
                    1043664.9214659686,
                    655110.2941176471,
                    345652.17391304346,
                    447638.8888888889
                  ],
                  "type": "scatter"
                },
                {
                  "base": 0,
                  "marker": {
                    "color": "rgb(51,153,255)"
                  },
                  "name": "Average Player Value as Bars",
                  "x": [
                    16,
                    17,
                    18,
                    19,
                    20,
                    21,
                    22,
                    23,
                    24,
                    25,
                    26,
                    27,
                    28,
                    29,
                    30,
                    31,
                    32,
                    33,
                    34,
                    35,
                    36,
                    37,
                    38
                  ],
                  "y": [
                    331153.8461538461,
                    322519.3798449612,
                    578809.5238095238,
                    717843.779232928,
                    1228710.843373494,
                    1737814.930015552,
                    2107054.3806646527,
                    2577033.7159253946,
                    2967762.368815592,
                    3122207.621550591,
                    3602691.3477537436,
                    3310399.3055555555,
                    3293092.2930542342,
                    3090249.776984835,
                    3504726.368159204,
                    2945588.6736214603,
                    2440899.209486166,
                    1638630.4700162075,
                    1264319.8529411764,
                    1043664.9214659686,
                    655110.2941176471,
                    345652.17391304346,
                    447638.8888888889
                  ],
                  "type": "bar"
                }
              ],
              "layout": {
                "template": {
                  "data": {
                    "barpolar": [
                      {
                        "marker": {
                          "line": {
                            "color": "#E5ECF6",
                            "width": 0.5
                          },
                          "pattern": {
                            "fillmode": "overlay",
                            "size": 10,
                            "solidity": 0.2
                          }
                        },
                        "type": "barpolar"
                      }
                    ],
                    "bar": [
                      {
                        "error_x": {
                          "color": "#2a3f5f"
                        },
                        "error_y": {
                          "color": "#2a3f5f"
                        },
                        "marker": {
                          "line": {
                            "color": "#E5ECF6",
                            "width": 0.5
                          },
                          "pattern": {
                            "fillmode": "overlay",
                            "size": 10,
                            "solidity": 0.2
                          }
                        },
                        "type": "bar"
                      }
                    ],
                    "carpet": [
                      {
                        "aaxis": {
                          "endlinecolor": "#2a3f5f",
                          "gridcolor": "white",
                          "linecolor": "white",
                          "minorgridcolor": "white",
                          "startlinecolor": "#2a3f5f"
                        },
                        "baxis": {
                          "endlinecolor": "#2a3f5f",
                          "gridcolor": "white",
                          "linecolor": "white",
                          "minorgridcolor": "white",
                          "startlinecolor": "#2a3f5f"
                        },
                        "type": "carpet"
                      }
                    ],
                    "choropleth": [
                      {
                        "colorbar": {
                          "outlinewidth": 0,
                          "ticks": ""
                        },
                        "type": "choropleth"
                      }
                    ],
                    "contourcarpet": [
                      {
                        "colorbar": {
                          "outlinewidth": 0,
                          "ticks": ""
                        },
                        "type": "contourcarpet"
                      }
                    ],
                    "contour": [
                      {
                        "colorbar": {
                          "outlinewidth": 0,
                          "ticks": ""
                        },
                        "colorscale": [
                          [
                            0,
                            "#0d0887"
                          ],
                          [
                            0.1111111111111111,
                            "#46039f"
                          ],
                          [
                            0.2222222222222222,
                            "#7201a8"
                          ],
                          [
                            0.3333333333333333,
                            "#9c179e"
                          ],
                          [
                            0.4444444444444444,
                            "#bd3786"
                          ],
                          [
                            0.5555555555555556,
                            "#d8576b"
                          ],
                          [
                            0.6666666666666666,
                            "#ed7953"
                          ],
                          [
                            0.7777777777777778,
                            "#fb9f3a"
                          ],
                          [
                            0.8888888888888888,
                            "#fdca26"
                          ],
                          [
                            1,
                            "#f0f921"
                          ]
                        ],
                        "type": "contour"
                      }
                    ],
                    "heatmapgl": [
                      {
                        "colorbar": {
                          "outlinewidth": 0,
                          "ticks": ""
                        },
                        "colorscale": [
                          [
                            0,
                            "#0d0887"
                          ],
                          [
                            0.1111111111111111,
                            "#46039f"
                          ],
                          [
                            0.2222222222222222,
                            "#7201a8"
                          ],
                          [
                            0.3333333333333333,
                            "#9c179e"
                          ],
                          [
                            0.4444444444444444,
                            "#bd3786"
                          ],
                          [
                            0.5555555555555556,
                            "#d8576b"
                          ],
                          [
                            0.6666666666666666,
                            "#ed7953"
                          ],
                          [
                            0.7777777777777778,
                            "#fb9f3a"
                          ],
                          [
                            0.8888888888888888,
                            "#fdca26"
                          ],
                          [
                            1,
                            "#f0f921"
                          ]
                        ],
                        "type": "heatmapgl"
                      }
                    ],
                    "heatmap": [
                      {
                        "colorbar": {
                          "outlinewidth": 0,
                          "ticks": ""
                        },
                        "colorscale": [
                          [
                            0,
                            "#0d0887"
                          ],
                          [
                            0.1111111111111111,
                            "#46039f"
                          ],
                          [
                            0.2222222222222222,
                            "#7201a8"
                          ],
                          [
                            0.3333333333333333,
                            "#9c179e"
                          ],
                          [
                            0.4444444444444444,
                            "#bd3786"
                          ],
                          [
                            0.5555555555555556,
                            "#d8576b"
                          ],
                          [
                            0.6666666666666666,
                            "#ed7953"
                          ],
                          [
                            0.7777777777777778,
                            "#fb9f3a"
                          ],
                          [
                            0.8888888888888888,
                            "#fdca26"
                          ],
                          [
                            1,
                            "#f0f921"
                          ]
                        ],
                        "type": "heatmap"
                      }
                    ],
                    "histogram2dcontour": [
                      {
                        "colorbar": {
                          "outlinewidth": 0,
                          "ticks": ""
                        },
                        "colorscale": [
                          [
                            0,
                            "#0d0887"
                          ],
                          [
                            0.1111111111111111,
                            "#46039f"
                          ],
                          [
                            0.2222222222222222,
                            "#7201a8"
                          ],
                          [
                            0.3333333333333333,
                            "#9c179e"
                          ],
                          [
                            0.4444444444444444,
                            "#bd3786"
                          ],
                          [
                            0.5555555555555556,
                            "#d8576b"
                          ],
                          [
                            0.6666666666666666,
                            "#ed7953"
                          ],
                          [
                            0.7777777777777778,
                            "#fb9f3a"
                          ],
                          [
                            0.8888888888888888,
                            "#fdca26"
                          ],
                          [
                            1,
                            "#f0f921"
                          ]
                        ],
                        "type": "histogram2dcontour"
                      }
                    ],
                    "histogram2d": [
                      {
                        "colorbar": {
                          "outlinewidth": 0,
                          "ticks": ""
                        },
                        "colorscale": [
                          [
                            0,
                            "#0d0887"
                          ],
                          [
                            0.1111111111111111,
                            "#46039f"
                          ],
                          [
                            0.2222222222222222,
                            "#7201a8"
                          ],
                          [
                            0.3333333333333333,
                            "#9c179e"
                          ],
                          [
                            0.4444444444444444,
                            "#bd3786"
                          ],
                          [
                            0.5555555555555556,
                            "#d8576b"
                          ],
                          [
                            0.6666666666666666,
                            "#ed7953"
                          ],
                          [
                            0.7777777777777778,
                            "#fb9f3a"
                          ],
                          [
                            0.8888888888888888,
                            "#fdca26"
                          ],
                          [
                            1,
                            "#f0f921"
                          ]
                        ],
                        "type": "histogram2d"
                      }
                    ],
                    "histogram": [
                      {
                        "marker": {
                          "pattern": {
                            "fillmode": "overlay",
                            "size": 10,
                            "solidity": 0.2
                          }
                        },
                        "type": "histogram"
                      }
                    ],
                    "mesh3d": [
                      {
                        "colorbar": {
                          "outlinewidth": 0,
                          "ticks": ""
                        },
                        "type": "mesh3d"
                      }
                    ],
                    "parcoords": [
                      {
                        "line": {
                          "colorbar": {
                            "outlinewidth": 0,
                            "ticks": ""
                          }
                        },
                        "type": "parcoords"
                      }
                    ],
                    "pie": [
                      {
                        "automargin": true,
                        "type": "pie"
                      }
                    ],
                    "scatter3d": [
                      {
                        "line": {
                          "colorbar": {
                            "outlinewidth": 0,
                            "ticks": ""
                          }
                        },
                        "marker": {
                          "colorbar": {
                            "outlinewidth": 0,
                            "ticks": ""
                          }
                        },
                        "type": "scatter3d"
                      }
                    ],
                    "scattercarpet": [
                      {
                        "marker": {
                          "colorbar": {
                            "outlinewidth": 0,
                            "ticks": ""
                          }
                        },
                        "type": "scattercarpet"
                      }
                    ],
                    "scattergeo": [
                      {
                        "marker": {
                          "colorbar": {
                            "outlinewidth": 0,
                            "ticks": ""
                          }
                        },
                        "type": "scattergeo"
                      }
                    ],
                    "scattergl": [
                      {
                        "marker": {
                          "colorbar": {
                            "outlinewidth": 0,
                            "ticks": ""
                          }
                        },
                        "type": "scattergl"
                      }
                    ],
                    "scattermapbox": [
                      {
                        "marker": {
                          "colorbar": {
                            "outlinewidth": 0,
                            "ticks": ""
                          }
                        },
                        "type": "scattermapbox"
                      }
                    ],
                    "scatterpolargl": [
                      {
                        "marker": {
                          "colorbar": {
                            "outlinewidth": 0,
                            "ticks": ""
                          }
                        },
                        "type": "scatterpolargl"
                      }
                    ],
                    "scatterpolar": [
                      {
                        "marker": {
                          "colorbar": {
                            "outlinewidth": 0,
                            "ticks": ""
                          }
                        },
                        "type": "scatterpolar"
                      }
                    ],
                    "scatter": [
                      {
                        "marker": {
                          "colorbar": {
                            "outlinewidth": 0,
                            "ticks": ""
                          }
                        },
                        "type": "scatter"
                      }
                    ],
                    "scatterternary": [
                      {
                        "marker": {
                          "colorbar": {
                            "outlinewidth": 0,
                            "ticks": ""
                          }
                        },
                        "type": "scatterternary"
                      }
                    ],
                    "surface": [
                      {
                        "colorbar": {
                          "outlinewidth": 0,
                          "ticks": ""
                        },
                        "colorscale": [
                          [
                            0,
                            "#0d0887"
                          ],
                          [
                            0.1111111111111111,
                            "#46039f"
                          ],
                          [
                            0.2222222222222222,
                            "#7201a8"
                          ],
                          [
                            0.3333333333333333,
                            "#9c179e"
                          ],
                          [
                            0.4444444444444444,
                            "#bd3786"
                          ],
                          [
                            0.5555555555555556,
                            "#d8576b"
                          ],
                          [
                            0.6666666666666666,
                            "#ed7953"
                          ],
                          [
                            0.7777777777777778,
                            "#fb9f3a"
                          ],
                          [
                            0.8888888888888888,
                            "#fdca26"
                          ],
                          [
                            1,
                            "#f0f921"
                          ]
                        ],
                        "type": "surface"
                      }
                    ],
                    "table": [
                      {
                        "cells": {
                          "fill": {
                            "color": "#EBF0F8"
                          },
                          "line": {
                            "color": "white"
                          }
                        },
                        "header": {
                          "fill": {
                            "color": "#C8D4E3"
                          },
                          "line": {
                            "color": "white"
                          }
                        },
                        "type": "table"
                      }
                    ]
                  },
                  "layout": {
                    "annotationdefaults": {
                      "arrowcolor": "#2a3f5f",
                      "arrowhead": 0,
                      "arrowwidth": 1
                    },
                    "autotypenumbers": "strict",
                    "coloraxis": {
                      "colorbar": {
                        "outlinewidth": 0,
                        "ticks": ""
                      }
                    },
                    "colorscale": {
                      "diverging": [
                        [
                          0,
                          "#8e0152"
                        ],
                        [
                          0.1,
                          "#c51b7d"
                        ],
                        [
                          0.2,
                          "#de77ae"
                        ],
                        [
                          0.3,
                          "#f1b6da"
                        ],
                        [
                          0.4,
                          "#fde0ef"
                        ],
                        [
                          0.5,
                          "#f7f7f7"
                        ],
                        [
                          0.6,
                          "#e6f5d0"
                        ],
                        [
                          0.7,
                          "#b8e186"
                        ],
                        [
                          0.8,
                          "#7fbc41"
                        ],
                        [
                          0.9,
                          "#4d9221"
                        ],
                        [
                          1,
                          "#276419"
                        ]
                      ],
                      "sequential": [
                        [
                          0,
                          "#0d0887"
                        ],
                        [
                          0.1111111111111111,
                          "#46039f"
                        ],
                        [
                          0.2222222222222222,
                          "#7201a8"
                        ],
                        [
                          0.3333333333333333,
                          "#9c179e"
                        ],
                        [
                          0.4444444444444444,
                          "#bd3786"
                        ],
                        [
                          0.5555555555555556,
                          "#d8576b"
                        ],
                        [
                          0.6666666666666666,
                          "#ed7953"
                        ],
                        [
                          0.7777777777777778,
                          "#fb9f3a"
                        ],
                        [
                          0.8888888888888888,
                          "#fdca26"
                        ],
                        [
                          1,
                          "#f0f921"
                        ]
                      ],
                      "sequentialminus": [
                        [
                          0,
                          "#0d0887"
                        ],
                        [
                          0.1111111111111111,
                          "#46039f"
                        ],
                        [
                          0.2222222222222222,
                          "#7201a8"
                        ],
                        [
                          0.3333333333333333,
                          "#9c179e"
                        ],
                        [
                          0.4444444444444444,
                          "#bd3786"
                        ],
                        [
                          0.5555555555555556,
                          "#d8576b"
                        ],
                        [
                          0.6666666666666666,
                          "#ed7953"
                        ],
                        [
                          0.7777777777777778,
                          "#fb9f3a"
                        ],
                        [
                          0.8888888888888888,
                          "#fdca26"
                        ],
                        [
                          1,
                          "#f0f921"
                        ]
                      ]
                    },
                    "colorway": [
                      "#636efa",
                      "#EF553B",
                      "#00cc96",
                      "#ab63fa",
                      "#FFA15A",
                      "#19d3f3",
                      "#FF6692",
                      "#B6E880",
                      "#FF97FF",
                      "#FECB52"
                    ],
                    "font": {
                      "color": "#2a3f5f"
                    },
                    "geo": {
                      "bgcolor": "white",
                      "lakecolor": "white",
                      "landcolor": "#E5ECF6",
                      "showlakes": true,
                      "showland": true,
                      "subunitcolor": "white"
                    },
                    "hoverlabel": {
                      "align": "left"
                    },
                    "hovermode": "closest",
                    "mapbox": {
                      "style": "light"
                    },
                    "paper_bgcolor": "white",
                    "plot_bgcolor": "#E5ECF6",
                    "polar": {
                      "angularaxis": {
                        "gridcolor": "white",
                        "linecolor": "white",
                        "ticks": ""
                      },
                      "bgcolor": "#E5ECF6",
                      "radialaxis": {
                        "gridcolor": "white",
                        "linecolor": "white",
                        "ticks": ""
                      }
                    },
                    "scene": {
                      "xaxis": {
                        "backgroundcolor": "#E5ECF6",
                        "gridcolor": "white",
                        "gridwidth": 2,
                        "linecolor": "white",
                        "showbackground": true,
                        "ticks": "",
                        "zerolinecolor": "white"
                      },
                      "yaxis": {
                        "backgroundcolor": "#E5ECF6",
                        "gridcolor": "white",
                        "gridwidth": 2,
                        "linecolor": "white",
                        "showbackground": true,
                        "ticks": "",
                        "zerolinecolor": "white"
                      },
                      "zaxis": {
                        "backgroundcolor": "#E5ECF6",
                        "gridcolor": "white",
                        "gridwidth": 2,
                        "linecolor": "white",
                        "showbackground": true,
                        "ticks": "",
                        "zerolinecolor": "white"
                      }
                    },
                    "shapedefaults": {
                      "line": {
                        "color": "#2a3f5f"
                      }
                    },
                    "ternary": {
                      "aaxis": {
                        "gridcolor": "white",
                        "linecolor": "white",
                        "ticks": ""
                      },
                      "baxis": {
                        "gridcolor": "white",
                        "linecolor": "white",
                        "ticks": ""
                      },
                      "bgcolor": "#E5ECF6",
                      "caxis": {
                        "gridcolor": "white",
                        "linecolor": "white",
                        "ticks": ""
                      }
                    },
                    "title": {
                      "x": 0.05
                    },
                    "xaxis": {
                      "automargin": true,
                      "gridcolor": "white",
                      "linecolor": "white",
                      "ticks": "",
                      "title": {
                        "standoff": 15
                      },
                      "zerolinecolor": "white",
                      "zerolinewidth": 2
                    },
                    "yaxis": {
                      "automargin": true,
                      "gridcolor": "white",
                      "linecolor": "white",
                      "ticks": "",
                      "title": {
                        "standoff": 15
                      },
                      "zerolinecolor": "white",
                      "zerolinewidth": 2
                    }
                  }
                },
                "title": {
                  "text": "Value of players over Age"
                },
                "xaxis": {
                  "title": {
                    "text": "Player Age"
                  }
                },
                "yaxis": {
                  "title": {
                    "text": "Average Player Value in Euros(Millions)"
                  }
                }
              },
              "config": {
                "showLink": false,
                "linkText": "Export to plot.ly",
                "plotlyServerURL": "https://plot.ly"
              }
            },
            "text/html": [
              "<div>                            <div id=\"53542ee2-aa83-4231-929a-d2bcf3f0b05a\" class=\"plotly-graph-div\" style=\"height:525px; width:100%;\"></div>            <script type=\"text/javascript\">                require([\"plotly\"], function(Plotly) {                    window.PLOTLYENV=window.PLOTLYENV || {};                                    if (document.getElementById(\"53542ee2-aa83-4231-929a-d2bcf3f0b05a\")) {                    Plotly.newPlot(                        \"53542ee2-aa83-4231-929a-d2bcf3f0b05a\",                        [{\"marker\":{\"color\":\"rgb(0,0,153)\"},\"name\":\"Average Player Value as Line\",\"x\":[16,17,18,19,20,21,22,23,24,25,26,27,28,29,30,31,32,33,34,35,36,37,38],\"y\":[331153.8461538461,322519.3798449612,578809.5238095238,717843.779232928,1228710.843373494,1737814.930015552,2107054.3806646527,2577033.7159253946,2967762.368815592,3122207.621550591,3602691.3477537436,3310399.3055555555,3293092.2930542342,3090249.776984835,3504726.368159204,2945588.6736214603,2440899.209486166,1638630.4700162075,1264319.8529411764,1043664.9214659686,655110.2941176471,345652.17391304346,447638.8888888889],\"type\":\"scatter\"},{\"base\":0,\"marker\":{\"color\":\"rgb(51,153,255)\"},\"name\":\"Average Player Value as Bars\",\"x\":[16,17,18,19,20,21,22,23,24,25,26,27,28,29,30,31,32,33,34,35,36,37,38],\"y\":[331153.8461538461,322519.3798449612,578809.5238095238,717843.779232928,1228710.843373494,1737814.930015552,2107054.3806646527,2577033.7159253946,2967762.368815592,3122207.621550591,3602691.3477537436,3310399.3055555555,3293092.2930542342,3090249.776984835,3504726.368159204,2945588.6736214603,2440899.209486166,1638630.4700162075,1264319.8529411764,1043664.9214659686,655110.2941176471,345652.17391304346,447638.8888888889],\"type\":\"bar\"}],                        {\"template\":{\"data\":{\"barpolar\":[{\"marker\":{\"line\":{\"color\":\"#E5ECF6\",\"width\":0.5},\"pattern\":{\"fillmode\":\"overlay\",\"size\":10,\"solidity\":0.2}},\"type\":\"barpolar\"}],\"bar\":[{\"error_x\":{\"color\":\"#2a3f5f\"},\"error_y\":{\"color\":\"#2a3f5f\"},\"marker\":{\"line\":{\"color\":\"#E5ECF6\",\"width\":0.5},\"pattern\":{\"fillmode\":\"overlay\",\"size\":10,\"solidity\":0.2}},\"type\":\"bar\"}],\"carpet\":[{\"aaxis\":{\"endlinecolor\":\"#2a3f5f\",\"gridcolor\":\"white\",\"linecolor\":\"white\",\"minorgridcolor\":\"white\",\"startlinecolor\":\"#2a3f5f\"},\"baxis\":{\"endlinecolor\":\"#2a3f5f\",\"gridcolor\":\"white\",\"linecolor\":\"white\",\"minorgridcolor\":\"white\",\"startlinecolor\":\"#2a3f5f\"},\"type\":\"carpet\"}],\"choropleth\":[{\"colorbar\":{\"outlinewidth\":0,\"ticks\":\"\"},\"type\":\"choropleth\"}],\"contourcarpet\":[{\"colorbar\":{\"outlinewidth\":0,\"ticks\":\"\"},\"type\":\"contourcarpet\"}],\"contour\":[{\"colorbar\":{\"outlinewidth\":0,\"ticks\":\"\"},\"colorscale\":[[0.0,\"#0d0887\"],[0.1111111111111111,\"#46039f\"],[0.2222222222222222,\"#7201a8\"],[0.3333333333333333,\"#9c179e\"],[0.4444444444444444,\"#bd3786\"],[0.5555555555555556,\"#d8576b\"],[0.6666666666666666,\"#ed7953\"],[0.7777777777777778,\"#fb9f3a\"],[0.8888888888888888,\"#fdca26\"],[1.0,\"#f0f921\"]],\"type\":\"contour\"}],\"heatmapgl\":[{\"colorbar\":{\"outlinewidth\":0,\"ticks\":\"\"},\"colorscale\":[[0.0,\"#0d0887\"],[0.1111111111111111,\"#46039f\"],[0.2222222222222222,\"#7201a8\"],[0.3333333333333333,\"#9c179e\"],[0.4444444444444444,\"#bd3786\"],[0.5555555555555556,\"#d8576b\"],[0.6666666666666666,\"#ed7953\"],[0.7777777777777778,\"#fb9f3a\"],[0.8888888888888888,\"#fdca26\"],[1.0,\"#f0f921\"]],\"type\":\"heatmapgl\"}],\"heatmap\":[{\"colorbar\":{\"outlinewidth\":0,\"ticks\":\"\"},\"colorscale\":[[0.0,\"#0d0887\"],[0.1111111111111111,\"#46039f\"],[0.2222222222222222,\"#7201a8\"],[0.3333333333333333,\"#9c179e\"],[0.4444444444444444,\"#bd3786\"],[0.5555555555555556,\"#d8576b\"],[0.6666666666666666,\"#ed7953\"],[0.7777777777777778,\"#fb9f3a\"],[0.8888888888888888,\"#fdca26\"],[1.0,\"#f0f921\"]],\"type\":\"heatmap\"}],\"histogram2dcontour\":[{\"colorbar\":{\"outlinewidth\":0,\"ticks\":\"\"},\"colorscale\":[[0.0,\"#0d0887\"],[0.1111111111111111,\"#46039f\"],[0.2222222222222222,\"#7201a8\"],[0.3333333333333333,\"#9c179e\"],[0.4444444444444444,\"#bd3786\"],[0.5555555555555556,\"#d8576b\"],[0.6666666666666666,\"#ed7953\"],[0.7777777777777778,\"#fb9f3a\"],[0.8888888888888888,\"#fdca26\"],[1.0,\"#f0f921\"]],\"type\":\"histogram2dcontour\"}],\"histogram2d\":[{\"colorbar\":{\"outlinewidth\":0,\"ticks\":\"\"},\"colorscale\":[[0.0,\"#0d0887\"],[0.1111111111111111,\"#46039f\"],[0.2222222222222222,\"#7201a8\"],[0.3333333333333333,\"#9c179e\"],[0.4444444444444444,\"#bd3786\"],[0.5555555555555556,\"#d8576b\"],[0.6666666666666666,\"#ed7953\"],[0.7777777777777778,\"#fb9f3a\"],[0.8888888888888888,\"#fdca26\"],[1.0,\"#f0f921\"]],\"type\":\"histogram2d\"}],\"histogram\":[{\"marker\":{\"pattern\":{\"fillmode\":\"overlay\",\"size\":10,\"solidity\":0.2}},\"type\":\"histogram\"}],\"mesh3d\":[{\"colorbar\":{\"outlinewidth\":0,\"ticks\":\"\"},\"type\":\"mesh3d\"}],\"parcoords\":[{\"line\":{\"colorbar\":{\"outlinewidth\":0,\"ticks\":\"\"}},\"type\":\"parcoords\"}],\"pie\":[{\"automargin\":true,\"type\":\"pie\"}],\"scatter3d\":[{\"line\":{\"colorbar\":{\"outlinewidth\":0,\"ticks\":\"\"}},\"marker\":{\"colorbar\":{\"outlinewidth\":0,\"ticks\":\"\"}},\"type\":\"scatter3d\"}],\"scattercarpet\":[{\"marker\":{\"colorbar\":{\"outlinewidth\":0,\"ticks\":\"\"}},\"type\":\"scattercarpet\"}],\"scattergeo\":[{\"marker\":{\"colorbar\":{\"outlinewidth\":0,\"ticks\":\"\"}},\"type\":\"scattergeo\"}],\"scattergl\":[{\"marker\":{\"colorbar\":{\"outlinewidth\":0,\"ticks\":\"\"}},\"type\":\"scattergl\"}],\"scattermapbox\":[{\"marker\":{\"colorbar\":{\"outlinewidth\":0,\"ticks\":\"\"}},\"type\":\"scattermapbox\"}],\"scatterpolargl\":[{\"marker\":{\"colorbar\":{\"outlinewidth\":0,\"ticks\":\"\"}},\"type\":\"scatterpolargl\"}],\"scatterpolar\":[{\"marker\":{\"colorbar\":{\"outlinewidth\":0,\"ticks\":\"\"}},\"type\":\"scatterpolar\"}],\"scatter\":[{\"marker\":{\"colorbar\":{\"outlinewidth\":0,\"ticks\":\"\"}},\"type\":\"scatter\"}],\"scatterternary\":[{\"marker\":{\"colorbar\":{\"outlinewidth\":0,\"ticks\":\"\"}},\"type\":\"scatterternary\"}],\"surface\":[{\"colorbar\":{\"outlinewidth\":0,\"ticks\":\"\"},\"colorscale\":[[0.0,\"#0d0887\"],[0.1111111111111111,\"#46039f\"],[0.2222222222222222,\"#7201a8\"],[0.3333333333333333,\"#9c179e\"],[0.4444444444444444,\"#bd3786\"],[0.5555555555555556,\"#d8576b\"],[0.6666666666666666,\"#ed7953\"],[0.7777777777777778,\"#fb9f3a\"],[0.8888888888888888,\"#fdca26\"],[1.0,\"#f0f921\"]],\"type\":\"surface\"}],\"table\":[{\"cells\":{\"fill\":{\"color\":\"#EBF0F8\"},\"line\":{\"color\":\"white\"}},\"header\":{\"fill\":{\"color\":\"#C8D4E3\"},\"line\":{\"color\":\"white\"}},\"type\":\"table\"}]},\"layout\":{\"annotationdefaults\":{\"arrowcolor\":\"#2a3f5f\",\"arrowhead\":0,\"arrowwidth\":1},\"autotypenumbers\":\"strict\",\"coloraxis\":{\"colorbar\":{\"outlinewidth\":0,\"ticks\":\"\"}},\"colorscale\":{\"diverging\":[[0,\"#8e0152\"],[0.1,\"#c51b7d\"],[0.2,\"#de77ae\"],[0.3,\"#f1b6da\"],[0.4,\"#fde0ef\"],[0.5,\"#f7f7f7\"],[0.6,\"#e6f5d0\"],[0.7,\"#b8e186\"],[0.8,\"#7fbc41\"],[0.9,\"#4d9221\"],[1,\"#276419\"]],\"sequential\":[[0.0,\"#0d0887\"],[0.1111111111111111,\"#46039f\"],[0.2222222222222222,\"#7201a8\"],[0.3333333333333333,\"#9c179e\"],[0.4444444444444444,\"#bd3786\"],[0.5555555555555556,\"#d8576b\"],[0.6666666666666666,\"#ed7953\"],[0.7777777777777778,\"#fb9f3a\"],[0.8888888888888888,\"#fdca26\"],[1.0,\"#f0f921\"]],\"sequentialminus\":[[0.0,\"#0d0887\"],[0.1111111111111111,\"#46039f\"],[0.2222222222222222,\"#7201a8\"],[0.3333333333333333,\"#9c179e\"],[0.4444444444444444,\"#bd3786\"],[0.5555555555555556,\"#d8576b\"],[0.6666666666666666,\"#ed7953\"],[0.7777777777777778,\"#fb9f3a\"],[0.8888888888888888,\"#fdca26\"],[1.0,\"#f0f921\"]]},\"colorway\":[\"#636efa\",\"#EF553B\",\"#00cc96\",\"#ab63fa\",\"#FFA15A\",\"#19d3f3\",\"#FF6692\",\"#B6E880\",\"#FF97FF\",\"#FECB52\"],\"font\":{\"color\":\"#2a3f5f\"},\"geo\":{\"bgcolor\":\"white\",\"lakecolor\":\"white\",\"landcolor\":\"#E5ECF6\",\"showlakes\":true,\"showland\":true,\"subunitcolor\":\"white\"},\"hoverlabel\":{\"align\":\"left\"},\"hovermode\":\"closest\",\"mapbox\":{\"style\":\"light\"},\"paper_bgcolor\":\"white\",\"plot_bgcolor\":\"#E5ECF6\",\"polar\":{\"angularaxis\":{\"gridcolor\":\"white\",\"linecolor\":\"white\",\"ticks\":\"\"},\"bgcolor\":\"#E5ECF6\",\"radialaxis\":{\"gridcolor\":\"white\",\"linecolor\":\"white\",\"ticks\":\"\"}},\"scene\":{\"xaxis\":{\"backgroundcolor\":\"#E5ECF6\",\"gridcolor\":\"white\",\"gridwidth\":2,\"linecolor\":\"white\",\"showbackground\":true,\"ticks\":\"\",\"zerolinecolor\":\"white\"},\"yaxis\":{\"backgroundcolor\":\"#E5ECF6\",\"gridcolor\":\"white\",\"gridwidth\":2,\"linecolor\":\"white\",\"showbackground\":true,\"ticks\":\"\",\"zerolinecolor\":\"white\"},\"zaxis\":{\"backgroundcolor\":\"#E5ECF6\",\"gridcolor\":\"white\",\"gridwidth\":2,\"linecolor\":\"white\",\"showbackground\":true,\"ticks\":\"\",\"zerolinecolor\":\"white\"}},\"shapedefaults\":{\"line\":{\"color\":\"#2a3f5f\"}},\"ternary\":{\"aaxis\":{\"gridcolor\":\"white\",\"linecolor\":\"white\",\"ticks\":\"\"},\"baxis\":{\"gridcolor\":\"white\",\"linecolor\":\"white\",\"ticks\":\"\"},\"bgcolor\":\"#E5ECF6\",\"caxis\":{\"gridcolor\":\"white\",\"linecolor\":\"white\",\"ticks\":\"\"}},\"title\":{\"x\":0.05},\"xaxis\":{\"automargin\":true,\"gridcolor\":\"white\",\"linecolor\":\"white\",\"ticks\":\"\",\"title\":{\"standoff\":15},\"zerolinecolor\":\"white\",\"zerolinewidth\":2},\"yaxis\":{\"automargin\":true,\"gridcolor\":\"white\",\"linecolor\":\"white\",\"ticks\":\"\",\"title\":{\"standoff\":15},\"zerolinecolor\":\"white\",\"zerolinewidth\":2}}},\"title\":{\"text\":\"Value of players over Age\"},\"xaxis\":{\"title\":{\"text\":\"Player Age\"}},\"yaxis\":{\"title\":{\"text\":\"Average Player Value in Euros(Millions)\"}}},                        {\"responsive\": true}                    ).then(function(){\n",
              "                            \n",
              "var gd = document.getElementById('53542ee2-aa83-4231-929a-d2bcf3f0b05a');\n",
              "var x = new MutationObserver(function (mutations, observer) {{\n",
              "        var display = window.getComputedStyle(gd).display;\n",
              "        if (!display || display === 'none') {{\n",
              "            console.log([gd, 'removed!']);\n",
              "            Plotly.purge(gd);\n",
              "            observer.disconnect();\n",
              "        }}\n",
              "}});\n",
              "\n",
              "// Listen for the removal of the full notebook cells\n",
              "var notebookContainer = gd.closest('#notebook-container');\n",
              "if (notebookContainer) {{\n",
              "    x.observe(notebookContainer, {childList: true});\n",
              "}}\n",
              "\n",
              "// Listen for the clearing of the current output cell\n",
              "var outputEl = gd.closest('.output');\n",
              "if (outputEl) {{\n",
              "    x.observe(outputEl, {childList: true});\n",
              "}}\n",
              "\n",
              "                        })                };                });            </script>        </div>"
            ]
          },
          "metadata": {}
        }
      ],
      "source": [
        "py.iplot(fig1)"
      ]
    },
    {
      "cell_type": "code",
      "execution_count": null,
      "metadata": {
        "id": "t3lgpZnkzxyZ"
      },
      "outputs": [],
      "source": [
        "def get_best_squad(formation, data, club='', country=''):\n",
        "    df = data.copy()\n",
        "    squad = []\n",
        "    if country:\n",
        "        df = df[df['Nationality'] == country.title()]\n",
        "    if club:\n",
        "        df = df[df['Club'] == club.title()]\n",
        "    for position in formation:\n",
        "        if (position == 'GK'):\n",
        "            g = df[[in_preferred_position(x, position) for x in df['Preferred Positions']]]\n",
        "            g = g.sort_values('Overall', ascending=False)\n",
        "            player = g.iloc[0][['ID', 'Name', 'Nationality', 'Overall', 'Preferred Positions']]\n",
        "            position_rating = player['Overall']\n",
        "        else:\n",
        "            ng = df[[in_preferred_position(x, position) for x in df['Preferred Positions']]]\n",
        "            if ng.empty:\n",
        "                ng = df\n",
        "            ng = ng.sort_values(str(position), ascending=False)\n",
        "            player = ng.iloc[0]\n",
        "            position_rating = player[position]\n",
        "            player = player[['ID', 'Name', 'Nationality', 'Overall', 'Preferred Positions']]   \n",
        "        player['Position'] = str(position)\n",
        "        player['Position Rating'] = position_rating\n",
        "        squad.append(player)\n",
        "        df = df[df['ID'] != player['ID']]\n",
        "    squad = pd.DataFrame(np.array(squad).reshape(11,7), columns = ['ID','Name', 'Nationality', 'OVR', 'Preferred Positions', 'Position', 'Rating'])\n",
        "    return squad"
      ]
    },
    {
      "cell_type": "code",
      "execution_count": null,
      "metadata": {
        "id": "RAbRjX5bz99_",
        "colab": {
          "base_uri": "https://localhost:8080/",
          "height": 394
        },
        "outputId": "40de6a9a-434e-4cdd-b59e-285aa6f06bb6"
      },
      "outputs": [
        {
          "output_type": "execute_result",
          "data": {
            "text/plain": [
              "                 Name Rating Position Nationality\n",
              "0            M. Neuer     92       GK     Germany\n",
              "1             D. Rose   81.0      LWB     England\n",
              "2        Sergio Ramos   87.0      LCB       Spain\n",
              "3        G. Chiellini   86.0       CB       Italy\n",
              "4         Azpilicueta   84.0       RB       Spain\n",
              "5          A. Sánchez   85.0       LM       Chile\n",
              "6            A. Vidal   85.0      CDM       Chile\n",
              "7        K. De Bruyne   85.0       RM     Belgium\n",
              "8   Cristiano Ronaldo   91.0       LW    Portugal\n",
              "9           L. Suárez   88.0       ST     Uruguay\n",
              "10           L. Messi   91.0       RW   Argentina"
            ],
            "text/html": [
              "\n",
              "  <div id=\"df-172d299a-3beb-4e0e-8168-8e3451266229\">\n",
              "    <div class=\"colab-df-container\">\n",
              "      <div>\n",
              "<style scoped>\n",
              "    .dataframe tbody tr th:only-of-type {\n",
              "        vertical-align: middle;\n",
              "    }\n",
              "\n",
              "    .dataframe tbody tr th {\n",
              "        vertical-align: top;\n",
              "    }\n",
              "\n",
              "    .dataframe thead th {\n",
              "        text-align: right;\n",
              "    }\n",
              "</style>\n",
              "<table border=\"1\" class=\"dataframe\">\n",
              "  <thead>\n",
              "    <tr style=\"text-align: right;\">\n",
              "      <th></th>\n",
              "      <th>Name</th>\n",
              "      <th>Rating</th>\n",
              "      <th>Position</th>\n",
              "      <th>Nationality</th>\n",
              "    </tr>\n",
              "  </thead>\n",
              "  <tbody>\n",
              "    <tr>\n",
              "      <th>0</th>\n",
              "      <td>M. Neuer</td>\n",
              "      <td>92</td>\n",
              "      <td>GK</td>\n",
              "      <td>Germany</td>\n",
              "    </tr>\n",
              "    <tr>\n",
              "      <th>1</th>\n",
              "      <td>D. Rose</td>\n",
              "      <td>81.0</td>\n",
              "      <td>LWB</td>\n",
              "      <td>England</td>\n",
              "    </tr>\n",
              "    <tr>\n",
              "      <th>2</th>\n",
              "      <td>Sergio Ramos</td>\n",
              "      <td>87.0</td>\n",
              "      <td>LCB</td>\n",
              "      <td>Spain</td>\n",
              "    </tr>\n",
              "    <tr>\n",
              "      <th>3</th>\n",
              "      <td>G. Chiellini</td>\n",
              "      <td>86.0</td>\n",
              "      <td>CB</td>\n",
              "      <td>Italy</td>\n",
              "    </tr>\n",
              "    <tr>\n",
              "      <th>4</th>\n",
              "      <td>Azpilicueta</td>\n",
              "      <td>84.0</td>\n",
              "      <td>RB</td>\n",
              "      <td>Spain</td>\n",
              "    </tr>\n",
              "    <tr>\n",
              "      <th>5</th>\n",
              "      <td>A. Sánchez</td>\n",
              "      <td>85.0</td>\n",
              "      <td>LM</td>\n",
              "      <td>Chile</td>\n",
              "    </tr>\n",
              "    <tr>\n",
              "      <th>6</th>\n",
              "      <td>A. Vidal</td>\n",
              "      <td>85.0</td>\n",
              "      <td>CDM</td>\n",
              "      <td>Chile</td>\n",
              "    </tr>\n",
              "    <tr>\n",
              "      <th>7</th>\n",
              "      <td>K. De Bruyne</td>\n",
              "      <td>85.0</td>\n",
              "      <td>RM</td>\n",
              "      <td>Belgium</td>\n",
              "    </tr>\n",
              "    <tr>\n",
              "      <th>8</th>\n",
              "      <td>Cristiano Ronaldo</td>\n",
              "      <td>91.0</td>\n",
              "      <td>LW</td>\n",
              "      <td>Portugal</td>\n",
              "    </tr>\n",
              "    <tr>\n",
              "      <th>9</th>\n",
              "      <td>L. Suárez</td>\n",
              "      <td>88.0</td>\n",
              "      <td>ST</td>\n",
              "      <td>Uruguay</td>\n",
              "    </tr>\n",
              "    <tr>\n",
              "      <th>10</th>\n",
              "      <td>L. Messi</td>\n",
              "      <td>91.0</td>\n",
              "      <td>RW</td>\n",
              "      <td>Argentina</td>\n",
              "    </tr>\n",
              "  </tbody>\n",
              "</table>\n",
              "</div>\n",
              "      <button class=\"colab-df-convert\" onclick=\"convertToInteractive('df-172d299a-3beb-4e0e-8168-8e3451266229')\"\n",
              "              title=\"Convert this dataframe to an interactive table.\"\n",
              "              style=\"display:none;\">\n",
              "        \n",
              "  <svg xmlns=\"http://www.w3.org/2000/svg\" height=\"24px\"viewBox=\"0 0 24 24\"\n",
              "       width=\"24px\">\n",
              "    <path d=\"M0 0h24v24H0V0z\" fill=\"none\"/>\n",
              "    <path d=\"M18.56 5.44l.94 2.06.94-2.06 2.06-.94-2.06-.94-.94-2.06-.94 2.06-2.06.94zm-11 1L8.5 8.5l.94-2.06 2.06-.94-2.06-.94L8.5 2.5l-.94 2.06-2.06.94zm10 10l.94 2.06.94-2.06 2.06-.94-2.06-.94-.94-2.06-.94 2.06-2.06.94z\"/><path d=\"M17.41 7.96l-1.37-1.37c-.4-.4-.92-.59-1.43-.59-.52 0-1.04.2-1.43.59L10.3 9.45l-7.72 7.72c-.78.78-.78 2.05 0 2.83L4 21.41c.39.39.9.59 1.41.59.51 0 1.02-.2 1.41-.59l7.78-7.78 2.81-2.81c.8-.78.8-2.07 0-2.86zM5.41 20L4 18.59l7.72-7.72 1.47 1.35L5.41 20z\"/>\n",
              "  </svg>\n",
              "      </button>\n",
              "      \n",
              "  <style>\n",
              "    .colab-df-container {\n",
              "      display:flex;\n",
              "      flex-wrap:wrap;\n",
              "      gap: 12px;\n",
              "    }\n",
              "\n",
              "    .colab-df-convert {\n",
              "      background-color: #E8F0FE;\n",
              "      border: none;\n",
              "      border-radius: 50%;\n",
              "      cursor: pointer;\n",
              "      display: none;\n",
              "      fill: #1967D2;\n",
              "      height: 32px;\n",
              "      padding: 0 0 0 0;\n",
              "      width: 32px;\n",
              "    }\n",
              "\n",
              "    .colab-df-convert:hover {\n",
              "      background-color: #E2EBFA;\n",
              "      box-shadow: 0px 1px 2px rgba(60, 64, 67, 0.3), 0px 1px 3px 1px rgba(60, 64, 67, 0.15);\n",
              "      fill: #174EA6;\n",
              "    }\n",
              "\n",
              "    [theme=dark] .colab-df-convert {\n",
              "      background-color: #3B4455;\n",
              "      fill: #D2E3FC;\n",
              "    }\n",
              "\n",
              "    [theme=dark] .colab-df-convert:hover {\n",
              "      background-color: #434B5C;\n",
              "      box-shadow: 0px 1px 3px 1px rgba(0, 0, 0, 0.15);\n",
              "      filter: drop-shadow(0px 1px 2px rgba(0, 0, 0, 0.3));\n",
              "      fill: #FFFFFF;\n",
              "    }\n",
              "  </style>\n",
              "\n",
              "      <script>\n",
              "        const buttonEl =\n",
              "          document.querySelector('#df-172d299a-3beb-4e0e-8168-8e3451266229 button.colab-df-convert');\n",
              "        buttonEl.style.display =\n",
              "          google.colab.kernel.accessAllowed ? 'block' : 'none';\n",
              "\n",
              "        async function convertToInteractive(key) {\n",
              "          const element = document.querySelector('#df-172d299a-3beb-4e0e-8168-8e3451266229');\n",
              "          const dataTable =\n",
              "            await google.colab.kernel.invokeFunction('convertToInteractive',\n",
              "                                                     [key], {});\n",
              "          if (!dataTable) return;\n",
              "\n",
              "          const docLinkHtml = 'Like what you see? Visit the ' +\n",
              "            '<a target=\"_blank\" href=https://colab.research.google.com/notebooks/data_table.ipynb>data table notebook</a>'\n",
              "            + ' to learn more about interactive tables.';\n",
              "          element.innerHTML = '';\n",
              "          dataTable['output_type'] = 'display_data';\n",
              "          await google.colab.output.renderOutput(dataTable, element);\n",
              "          const docLink = document.createElement('div');\n",
              "          docLink.innerHTML = docLinkHtml;\n",
              "          element.appendChild(docLink);\n",
              "        }\n",
              "      </script>\n",
              "    </div>\n",
              "  </div>\n",
              "  "
            ]
          },
          "metadata": {},
          "execution_count": 113
        }
      ],
      "source": [
        "squad_433 = ['GK', 'LWB', 'LCB', 'CB', 'RB', 'LM', 'CDM', 'RM', 'LW', 'ST', 'RW']\n",
        "s = get_best_squad(squad_433, data, country='', club='')\n",
        "s[['Name', 'Rating', 'Position', 'Nationality']]"
      ]
    },
    {
      "cell_type": "code",
      "execution_count": null,
      "metadata": {
        "id": "MbWP0TyF0D_1",
        "colab": {
          "base_uri": "https://localhost:8080/"
        },
        "outputId": "15327775-0ee8-4933-ac3a-a814917f1bec"
      },
      "outputs": [
        {
          "output_type": "stream",
          "name": "stderr",
          "text": [
            "/usr/local/lib/python3.8/dist-packages/sklearn/linear_model/_logistic.py:814: ConvergenceWarning:\n",
            "\n",
            "lbfgs failed to converge (status=1):\n",
            "STOP: TOTAL NO. of ITERATIONS REACHED LIMIT.\n",
            "\n",
            "Increase the number of iterations (max_iter) or scale the data as shown in:\n",
            "    https://scikit-learn.org/stable/modules/preprocessing.html\n",
            "Please also refer to the documentation for alternative solver options:\n",
            "    https://scikit-learn.org/stable/modules/linear_model.html#logistic-regression\n",
            "\n"
          ]
        }
      ],
      "source": [
        "train_columns = ['Special', 'Acceleration', 'Aggression', 'Agility', 'Balance',\n",
        "       'Ball control', 'Composure', 'Crossing', 'Curve', 'Dribbling',\n",
        "       'Finishing', 'Free kick accuracy', 'GK diving', 'GK handling',\n",
        "       'GK kicking', 'GK positioning', 'GK reflexes', 'Heading accuracy',\n",
        "       'Interceptions', 'Jumping', 'Long passing', 'Long shots', 'Marking',\n",
        "       'Penalties', 'Positioning', 'Reactions', 'Short passing', 'Shot power',\n",
        "       'Sliding tackle', 'Sprint speed', 'Stamina', 'Standing tackle',\n",
        "       'Strength', 'Vision', 'Volleys', 'Age', 'FieldPosition']\n",
        "\n",
        "model_data = data.copy()\n",
        "model_data = model_data[model_data['FieldPosition'] != 'Goalkeeper']\n",
        "mapping = {'Attack' : 0, 'Midfield': 1, 'Defence': 2}\n",
        "model_data = model_data.replace({'FieldPosition': mapping})\n",
        "\n",
        "X = model_data[['Special', 'Acceleration', 'Aggression', 'Agility', 'Balance',\n",
        "       'Ball control', 'Composure', 'Crossing', 'Curve', 'Dribbling',\n",
        "       'Finishing', 'Free kick accuracy', 'GK diving', 'GK handling',\n",
        "       'GK kicking', 'GK positioning', 'GK reflexes', 'Heading accuracy',\n",
        "       'Interceptions', 'Jumping', 'Long passing', 'Long shots', 'Marking',\n",
        "       'Penalties', 'Positioning', 'Reactions', 'Short passing', 'Shot power',\n",
        "       'Sliding tackle', 'Sprint speed', 'Stamina', 'Standing tackle',\n",
        "       'Strength', 'Vision', 'Volleys', 'Age']]\n",
        "Y = model_data['FieldPosition']\n",
        "\n",
        "X_train, X_test, y_train, y_test = train_test_split(X, Y, random_state=0)\n",
        "lr = LogisticRegression()\n",
        "lr.fit(X_train, y_train)\n",
        "preds = lr.predict(X_test)\n",
        "\n"
      ]
    },
    {
      "cell_type": "code",
      "execution_count": null,
      "metadata": {
        "id": "TGx6ogh01H50"
      },
      "outputs": [],
      "source": [
        "     \n",
        "def plot_confusion_matrix(cm, classes,      \n",
        "                          normalize=False,\n",
        "                          title='Confusion matrix',\n",
        "                          cmap=plt.cm.Blues):\n",
        "    \"\"\"\n",
        "    This function prints and plots the confusion matrix.\n",
        "    Normalization can be applied by setting `normalize=True`.\n",
        "    \"\"\"\n",
        "    if normalize:\n",
        "        cm = cm.astype('float') / cm.sum(axis=1)[:, np.newaxis]\n",
        "        print(\"Normalized confusion matrix\")\n",
        "    else:\n",
        "        print('Confusion matrix, without normalization')\n",
        "\n",
        "    print(cm)\n",
        "\n",
        "    plt.imshow(cm, interpolation='nearest', cmap=cmap)\n",
        "    plt.title(title)\n",
        "    plt.colorbar()\n",
        "    tick_marks = np.arange(len(classes))\n",
        "    plt.xticks(tick_marks, classes, rotation=45)\n",
        "    plt.yticks(tick_marks, classes)\n",
        "\n",
        "    fmt = '.2f' if normalize else 'd'\n",
        "    thresh = cm.max() / 2.\n",
        "    for i, j in itertools.product(range(cm.shape[0]), range(cm.shape[1])):\n",
        "        plt.text(j, i, format(cm[i, j], fmt),\n",
        "                 horizontalalignment=\"center\",\n",
        "                 color=\"white\" if cm[i, j] > thresh else \"black\")\n",
        "\n",
        "    plt.tight_layout()\n",
        "    plt.ylabel('True label')\n",
        "    plt.xlabel('Predicted label')\n",
        "    cnf_matrix = confusion_matrix(y_test, preds)\n",
        "np.set_printoptions(precision=2)"
      ]
    },
    {
      "cell_type": "code",
      "execution_count": null,
      "metadata": {
        "id": "yASwozfM0t0_"
      },
      "outputs": [],
      "source": [
        "\n",
        "def logistic_reg():\n",
        "\n",
        "    # import seaborn as sns\n",
        "    cnf_matrix = confusion_matrix(y_test, preds)\n",
        "    np.set_printoptions(precision=2)\n",
        "\n",
        "    # cm = confusion_matrix(y_test, preds)\n",
        "    # f = sns.heatmap(cm, annot=True)                     \n",
        "    # def randomforrest():\n",
        "    plt.figure()\n",
        "\n",
        "    # # Plot normalized confusion matrix\n",
        "    # plt.figure()\n",
        "    plot_confusion_matrix(cnf_matrix, normalize=True,  classes=[0,1,2],\n",
        "                         title='Normalized confusion matrix')"
      ]
    },
    {
      "cell_type": "code",
      "execution_count": null,
      "metadata": {
        "id": "9DRT8O-901Xg",
        "colab": {
          "base_uri": "https://localhost:8080/",
          "height": 379
        },
        "outputId": "33e27bf5-f918-47c0-f8c5-b211fd5980e6"
      },
      "outputs": [
        {
          "output_type": "stream",
          "name": "stdout",
          "text": [
            "Normalized confusion matrix\n",
            "[[6.94e-01 2.96e-01 9.96e-03]\n",
            " [7.33e-02 8.14e-01 1.13e-01]\n",
            " [7.23e-04 1.37e-01 8.62e-01]]\n"
          ]
        },
        {
          "output_type": "display_data",
          "data": {
            "text/plain": [
              "<Figure size 432x288 with 2 Axes>"
            ],
            "image/png": "[encoded data removed]"
          },
          "metadata": {}
        }
      ],
      "source": [
        "logistic_reg()"
      ]
    },
    {
      "cell_type": "code",
      "execution_count": null,
      "metadata": {
        "id": "nAOVjb9L2b0q",
        "colab": {
          "base_uri": "https://localhost:8080/"
        },
        "outputId": "694d2287-68d3-4d82-ad23-351b8587488e"
      },
      "outputs": [
        {
          "output_type": "stream",
          "name": "stdout",
          "text": [
            "\n",
            "ACCURACY OF THE MODEL:  80.64192577733199\n"
          ]
        }
      ],
      "source": [
        "from sklearn import metrics  \n",
        "print()\n",
        "\n",
        "print(\"ACCURACY OF THE MODEL: \", metrics.accuracy_score(y_test,preds)*100)"
      ]
    },
    {
      "cell_type": "code",
      "execution_count": null,
      "metadata": {
        "id": "4MRl_tl3WngK"
      },
      "outputs": [],
      "source": [
        "new_input = X_test.values[1]"
      ]
    },
    {
      "cell_type": "code",
      "execution_count": null,
      "metadata": {
        "id": "pXl9rPWOWsQz",
        "colab": {
          "base_uri": "https://localhost:8080/"
        },
        "outputId": "8e7a6120-dbe2-413c-b6bd-21246ca4b004"
      },
      "outputs": [
        {
          "output_type": "execute_result",
          "data": {
            "text/plain": [
              "[array([1803.,   72.,   79.,   59.,   53.,   78.,   75.,   61.,   40.,\n",
              "          72.,   80.,   38.,    7.,    8.,   15.,   10.,    6.,   78.,\n",
              "          28.,   75.,   46.,   73.,   24.,   73.,   81.,   74.,   63.,\n",
              "          85.,   32.,   77.,   66.,   24.,   87.,   65.,   74.,   28.])]"
            ]
          },
          "metadata": {},
          "execution_count": 120
        }
      ],
      "source": [
        "new_input1 = [new_input]\n",
        "new_input1"
      ]
    },
    {
      "cell_type": "code",
      "execution_count": null,
      "metadata": {
        "id": "_0apyGhNWy-P",
        "colab": {
          "base_uri": "https://localhost:8080/"
        },
        "outputId": "624b3d6e-8eca-480b-d331-93b0d511d6b3"
      },
      "outputs": [
        {
          "output_type": "stream",
          "name": "stderr",
          "text": [
            "/usr/local/lib/python3.8/dist-packages/sklearn/base.py:450: UserWarning:\n",
            "\n",
            "X does not have valid feature names, but LogisticRegression was fitted with feature names\n",
            "\n"
          ]
        },
        {
          "output_type": "execute_result",
          "data": {
            "text/plain": [
              "array([0])"
            ]
          },
          "metadata": {},
          "execution_count": 121
        }
      ],
      "source": [
        "new_output = lr.predict(new_input1)\n",
        "new_output"
      ]
    },
    {
      "cell_type": "code",
      "execution_count": null,
      "metadata": {
        "id": "fehDyw5AaFIb",
        "colab": {
          "base_uri": "https://localhost:8080/"
        },
        "outputId": "001d1861-3a18-41ab-d337-ff8f4a524c53"
      },
      "outputs": [
        {
          "output_type": "stream",
          "name": "stdout",
          "text": [
            "Position is \"attack\"\n"
          ]
        }
      ],
      "source": [
        "new_output\n",
        "if new_output==[0]:\n",
        "    print('Position is \"attack\"')\n",
        "elif new_output == [1]:\n",
        "    print('Position is \"midfield\"')\n",
        "else:\n",
        "    print('position is \"Defence\"')"
      ]
    },
    {
      "cell_type": "code",
      "execution_count": null,
      "metadata": {
        "id": "ciKcT9aZ1_-l"
      },
      "outputs": [],
      "source": [
        "from sklearn.ensemble import RandomForestClassifier\n",
        "from sklearn.datasets import make_classification\n",
        "\n",
        "clf = RandomForestClassifier(max_depth=200, random_state=0)\n",
        "clf.fit(X_train, y_train)\n",
        "\n",
        "preds = clf.predict(X_test)\n",
        "\n",
        "clf_matrix = confusion_matrix(y_test, preds)\n",
        "np.set_printoptions(precision=2)"
      ]
    },
    {
      "cell_type": "code",
      "execution_count": null,
      "metadata": {
        "id": "hVBnWt0n2Dt_"
      },
      "outputs": [],
      "source": [
        "def randomforrest():\n",
        "\n",
        "\n",
        "    # Plot normalized confusion matrix\n",
        "    plt.figure()\n",
        "    plot_confusion_matrix(clf_matrix, normalize=True,  classes=[0,1,2],\n",
        "                          title='Normalized confusion matrix')"
      ]
    },
    {
      "cell_type": "code",
      "execution_count": null,
      "metadata": {
        "id": "t0iQIm5f2Hmw",
        "colab": {
          "base_uri": "https://localhost:8080/",
          "height": 379
        },
        "outputId": "68ff6fa0-7337-4fb2-a74e-92b95e5a938d"
      },
      "outputs": [
        {
          "output_type": "stream",
          "name": "stdout",
          "text": [
            "Normalized confusion matrix\n",
            "[[6.89e-01 3.03e-01 8.72e-03]\n",
            " [6.50e-02 8.30e-01 1.05e-01]\n",
            " [7.23e-04 1.24e-01 8.76e-01]]\n"
          ]
        },
        {
          "output_type": "display_data",
          "data": {
            "text/plain": [
              "<Figure size 432x288 with 2 Axes>"
            ],
            "image/png": "[encoded data removed]"
          },
          "metadata": {}
        }
      ],
      "source": [
        "randomforrest()"
      ]
    },
    {
      "cell_type": "code",
      "execution_count": null,
      "metadata": {
        "id": "vRPtbqiO2BrT",
        "colab": {
          "base_uri": "https://localhost:8080/"
        },
        "outputId": "9110ef73-9ea6-46ee-9c76-cc6378045b9b"
      },
      "outputs": [
        {
          "output_type": "stream",
          "name": "stdout",
          "text": [
            "\n",
            "ACCURACY OF THE MODEL:  81.74523570712137\n"
          ]
        }
      ],
      "source": [
        "from sklearn import metrics  \n",
        "print()\n",
        "\n",
        "print(\"ACCURACY OF THE MODEL: \", metrics.accuracy_score(y_test,preds)*100)"
      ]
    },
    {
      "cell_type": "code",
      "execution_count": null,
      "metadata": {
        "id": "5V5_ljzhTmWU",
        "colab": {
          "base_uri": "https://localhost:8080/"
        },
        "outputId": "5b8c04a3-d1af-4dc7-8b32-71ffdcef77f2"
      },
      "outputs": [
        {
          "output_type": "execute_result",
          "data": {
            "text/plain": [
              "9216     2\n",
              "2284     2\n",
              "9786     0\n",
              "12578    0\n",
              "7078     1\n",
              "        ..\n",
              "14566    2\n",
              "3620     0\n",
              "10869    2\n",
              "11941    0\n",
              "3033     2\n",
              "Name: FieldPosition, Length: 11964, dtype: int64"
            ]
          },
          "metadata": {},
          "execution_count": 127
        }
      ],
      "source": [
        "y_train\n"
      ]
    },
    {
      "cell_type": "code",
      "execution_count": null,
      "metadata": {
        "id": "NoG82HGZUjnn"
      },
      "outputs": [],
      "source": [
        "new_input = X_test.values[1]"
      ]
    },
    {
      "cell_type": "code",
      "execution_count": null,
      "metadata": {
        "id": "RqJ4dX-9UAmY",
        "colab": {
          "base_uri": "https://localhost:8080/"
        },
        "outputId": "4f72243c-f9f4-4c9c-ee33-49aadc8441a3"
      },
      "outputs": [
        {
          "output_type": "execute_result",
          "data": {
            "text/plain": [
              "[array([1803.,   72.,   79.,   59.,   53.,   78.,   75.,   61.,   40.,\n",
              "          72.,   80.,   38.,    7.,    8.,   15.,   10.,    6.,   78.,\n",
              "          28.,   75.,   46.,   73.,   24.,   73.,   81.,   74.,   63.,\n",
              "          85.,   32.,   77.,   66.,   24.,   87.,   65.,   74.,   28.])]"
            ]
          },
          "metadata": {},
          "execution_count": 129
        }
      ],
      "source": [
        "new_input1 = [new_input]\n",
        "new_input1"
      ]
    },
    {
      "cell_type": "code",
      "execution_count": null,
      "metadata": {
        "id": "pRVAX5nHXGfk",
        "colab": {
          "base_uri": "https://localhost:8080/"
        },
        "outputId": "5812208c-13cc-4154-c475-751d27831d7f"
      },
      "outputs": [
        {
          "output_type": "stream",
          "name": "stderr",
          "text": [
            "/usr/local/lib/python3.8/dist-packages/sklearn/base.py:450: UserWarning:\n",
            "\n",
            "X does not have valid feature names, but RandomForestClassifier was fitted with feature names\n",
            "\n"
          ]
        },
        {
          "output_type": "execute_result",
          "data": {
            "text/plain": [
              "array([0])"
            ]
          },
          "metadata": {},
          "execution_count": 130
        }
      ],
      "source": [
        "new_output = clf.predict(new_input1)\n",
        "new_output"
      ]
    },
    {
      "cell_type": "code",
      "execution_count": null,
      "metadata": {
        "id": "WMrGk9ItZNWE",
        "colab": {
          "base_uri": "https://localhost:8080/"
        },
        "outputId": "9af99de2-dc66-4ab2-9b71-4972305b2ac5"
      },
      "outputs": [
        {
          "output_type": "stream",
          "name": "stdout",
          "text": [
            "Position is \"attack\"\n"
          ]
        }
      ],
      "source": [
        "new_output\n",
        "if new_output==[0]:\n",
        "    print('Position is \"attack\"')\n",
        "elif new_output == [1]:\n",
        "    print('Position is \"midfield\"')\n",
        "else:\n",
        "    print('position is \"Defence\"')"
      ]
    }
  ],
  "metadata": {
    "colab": {
      "provenance": [],
      "include_colab_link": true
    },
    "kernelspec": {
      "display_name": "Python 3",
      "name": "python3"
    },
    "language_info": {
      "name": "python"
    }
  },
  "nbformat": 4,
  "nbformat_minor": 0
}